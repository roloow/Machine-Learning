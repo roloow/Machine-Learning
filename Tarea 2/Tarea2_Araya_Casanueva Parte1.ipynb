{
 "cells": [
  {
   "cell_type": "markdown",
   "metadata": {},
   "source": [
    "<img src=\"http://www.exalumnos.usm.cl/wp-content/uploads/2015/06/Isotipo-Negro.gif\" title=\"Title text\" width=\"20%\" height=\"20%\" />\n",
    "\n",
    "\n",
    "<hr style=\"height:2px;border:none\"/>\n",
    "<h1 align='center'> INF-393 Máquinas de Aprendizaje II-2019 </h1>\n",
    "\n",
    "<H3 align='center'> Tarea 2  </H3>\n",
    "\n",
    "<H3 align='center'> Rolando Casanueva  </H3>\n",
    "<H3 align='center'> Gabriel Araya  </H3>\n",
    "<hr style=\"height:2px;border:none\"/>"
   ]
  },
  {
   "cell_type": "code",
   "execution_count": 1,
   "metadata": {},
   "outputs": [],
   "source": [
    "import pandas as pd\n",
    "ftr = open(\"train_data.csv\", \"r\",  encoding=\"ISO-8859-1\")\n",
    "rows = [line.split(\" \",1) for line in ftr.readlines()]\n",
    "df_train = pd.DataFrame(rows, columns=['Sentiment','Text'])\n",
    "df_train['Sentiment'] = (pd.to_numeric(df_train['Sentiment'])+1)/2 # 0 o 1\n",
    "fts = open(\"test_data.csv\", \"r\",  encoding=\"ISO-8859-1\")\n",
    "rows = [line.split(\" \",1) for line in fts.readlines()]\n",
    "df_test = pd.DataFrame(rows, columns=['Sentiment','Text'])\n",
    "df_test['Sentiment'] = (pd.to_numeric(df_test['Sentiment'])+1)/2 # 0 o 1\n",
    "df_train_text = df_train.Text\n",
    "df_test_text = df_test.Text\n",
    "labels_train = df_train.Sentiment.values\n",
    "labels_test = df_test.Sentiment.values"
   ]
  },
  {
   "cell_type": "markdown",
   "metadata": {},
   "source": [
    "a) Describa los datos trabajados, como la cantidad de datos en cada conjunto, largo de los textos, la cantidad de ejemplo por cada clase, o alguna otra forma que piense que pueda ser útil para comprender el problema trabajado."
   ]
  },
  {
   "cell_type": "code",
   "execution_count": 2,
   "metadata": {},
   "outputs": [
    {
     "data": {
      "text/plain": [
       "<bound method NDFrame.describe of 0       everything's serious , poetic , earnest and --...\n",
       "1       narratively , trouble every day is a plodding ...\n",
       "2       a truly wonderful tale combined with stunning ...\n",
       "3       jason patric and ray liotta make for one splen...\n",
       "4       haneke keeps us at arm's length . guided more ...\n",
       "                              ...                        \n",
       "3549    it takes a strange kind of laziness to waste t...\n",
       "3550    an easy watch , except for the annoying demean...\n",
       "3551    dog soldiers doesn't transcend genre -- it emb...\n",
       "3552    it uses the pain and violence of war as backgr...\n",
       "3553    victor rosa is leguizamo's best movie work so ...\n",
       "Name: Text, Length: 3554, dtype: object>"
      ]
     },
     "execution_count": 2,
     "metadata": {},
     "output_type": "execute_result"
    }
   ],
   "source": [
    "df_train.Text.describe"
   ]
  },
  {
   "cell_type": "code",
   "execution_count": 3,
   "metadata": {},
   "outputs": [
    {
     "data": {
      "text/plain": [
       "<bound method NDFrame.describe of 0       0.0\n",
       "1       0.0\n",
       "2       1.0\n",
       "3       1.0\n",
       "4       0.0\n",
       "       ... \n",
       "3549    0.0\n",
       "3550    0.0\n",
       "3551    1.0\n",
       "3552    0.0\n",
       "3553    1.0\n",
       "Name: Sentiment, Length: 3554, dtype: float64>"
      ]
     },
     "execution_count": 3,
     "metadata": {},
     "output_type": "execute_result"
    }
   ],
   "source": [
    "df_train.Sentiment.describe"
   ]
  },
  {
   "cell_type": "markdown",
   "metadata": {},
   "source": [
    "Los datos de entretamiento corresponden a 3554 textos con opiniones o críticas a películas las cuales pueden ser positivas o negativas, etiquetadas como 1.0 ó 0.0 respectivamente. Todo esto en un contexto de entender los sentimientos de un texto, donde el dataset fue recolectado en una competencia organizada por la Universidad de Stanford.\n",
    "Cabe señalarse que los textos están en inglés.\n"
   ]
  },
  {
   "cell_type": "markdown",
   "metadata": {},
   "source": [
    "b) Construya un conjunto de validación desde el conjunto de entrenamiento para seleccionar modelos. Decida el tamaño dada la cantidad de ejemplos que se tienen para entrenamiento."
   ]
  },
  {
   "cell_type": "code",
   "execution_count": 4,
   "metadata": {},
   "outputs": [],
   "source": [
    "from sklearn.model_selection import train_test_split\n",
    "df_train_text, df_val_text, labels_train, labels_val  = train_test_split(df_train_text, labels_train, test_size= 0.25, random_state=0)"
   ]
  },
  {
   "cell_type": "code",
   "execution_count": null,
   "metadata": {},
   "outputs": [],
   "source": []
  },
  {
   "cell_type": "markdown",
   "metadata": {},
   "source": [
    "c) Realice un pre-procesamiento a los textos para normalizar un poco su estructura, para ello utilice el código de ejemplo a continuación, donde se pasa el texto a minúsculas (lower-casing), se reducen las mútliples letras, se eliminan palabras sin significados como artículos, pronombres y preposiciones (stop word removal [3]), además de pasar las palabras a su tronco léxico con la técnica de lemmatizer [4]. Comente la importancia de un correcto pre-procesamiento en el domino de lenguaje natural."
   ]
  },
  {
   "cell_type": "code",
   "execution_count": 5,
   "metadata": {},
   "outputs": [],
   "source": [
    "import re, time\n",
    "from nltk.corpus import stopwords\n",
    "from nltk import WordNetLemmatizer, word_tokenize\n",
    "def base_word(word):\n",
    "    wordlemmatizer = WordNetLemmatizer()\n",
    "    return wordlemmatizer.lemmatize(word) \n",
    "def word_extractor(text):\n",
    "    commonwords = stopwords.words('english')\n",
    "    text = re.sub(r'([a-z])\\1+', r'\\1\\1',text) #substitute multiple letter by two\n",
    "    words = \"\"\n",
    "    wordtokens = [ base_word(word.lower()) for word in word_tokenize(text) ]\n",
    "    for word in wordtokens:\n",
    "        if word not in commonwords: #delete stopwords\n",
    "            words+=\" \"+word\n",
    "    return words"
   ]
  },
  {
   "cell_type": "code",
   "execution_count": 6,
   "metadata": {},
   "outputs": [],
   "source": [
    "texts_train = [word_extractor(text) for text in df_train_text]\n",
    "texts_val = [word_extractor(text) for text in df_val_text]\n",
    "texts_test = [word_extractor(text) for text in df_test_text]"
   ]
  },
  {
   "cell_type": "code",
   "execution_count": 7,
   "metadata": {},
   "outputs": [
    {
     "data": {
      "text/plain": [
       "' love eating cake'"
      ]
     },
     "execution_count": 7,
     "metadata": {},
     "output_type": "execute_result"
    }
   ],
   "source": [
    "word_extractor(\"I do not love eating cake\")"
   ]
  },
  {
   "cell_type": "markdown",
   "metadata": {},
   "source": [
    "Hay palabras que se repiten constantemente en el uso de cualquier lenguaje, y que para análisis de textos éstas pierden importancia debido a su constante aparición."
   ]
  },
  {
   "cell_type": "markdown",
   "metadata": {},
   "source": [
    "Ejemplo de lo anterior son los pronombres (I, you, we, he, she, they, it), artículos, proposiciones, entre otras."
   ]
  },
  {
   "cell_type": "markdown",
   "metadata": {},
   "source": [
    "Es por ello que con el pre-procesamiento, al eliminar estas palabras \"inútiles\" el analizador podrá enfocarse en las palabras que sí importan.\n",
    "Aunque ello no signifique que hay posibilidad de errores cuando el texto es muy simple, como en el ejemplo \"I do not love eating cake\" que al ser pre-procesado queda \"love eating cake\", dando resultados contradictorios."
   ]
  },
  {
   "cell_type": "markdown",
   "metadata": {},
   "source": [
    "d) Construya una representación vectorial a los textos de entrada para poder ser manejados y clasificados por los modelos de aprendizaje. Para ésto utilice el tipo de característica más común, que consiste en contar cuántas veces aparece cada términos/palabras en el texto, denominado TF (term-frequency). Para esto, se necesita contar con un vocabulario base, el cual se construirá a través de la unión de todas las palabras que observemos en los textos de entrenamiento ¿Cuáles son las palabras más frecuentes?"
   ]
  },
  {
   "cell_type": "code",
   "execution_count": 8,
   "metadata": {},
   "outputs": [],
   "source": [
    "import numpy as np\n",
    "from sklearn.feature_extraction.text import CountVectorizer\n",
    "vectorizer = CountVectorizer(ngram_range=(1, 1), binary=False) #TF representation\n",
    "vectorizer.fit(texts_train)\n",
    "features_train = vectorizer.transform(texts_train)\n",
    "features_val = vectorizer.transform(texts_val)\n",
    "features_test = vectorizer.transform(texts_test)\n",
    "vocab = vectorizer.get_feature_names()\n",
    "dist=list(np.array(features_train.sum(axis=0)).reshape(-1,))"
   ]
  },
  {
   "cell_type": "code",
   "execution_count": 9,
   "metadata": {},
   "outputs": [],
   "source": [
    "max = 0\n",
    "aux=[0,0,0,0,0]\n",
    "pos=[0,0,0,0,0]\n",
    "for i in range(len(dist)):\n",
    "    if dist[i]>=max:\n",
    "        max = dist[i]\n",
    "        aux[4]=aux[3]\n",
    "        aux[3]=aux[2]\n",
    "        aux[2]=aux[1]\n",
    "        aux[1]=aux[0]\n",
    "        aux[0]=max\n",
    "        pos[4]=pos[3]\n",
    "        pos[3]=pos[2]\n",
    "        pos[2]=pos[1]\n",
    "        pos[1]=pos[0]\n",
    "        pos[0]= i"
   ]
  },
  {
   "cell_type": "markdown",
   "metadata": {},
   "source": [
    "Las 5 palabras que más se repitieron en el set de entrenamiento fueron:"
   ]
  },
  {
   "cell_type": "code",
   "execution_count": 10,
   "metadata": {},
   "outputs": [
    {
     "name": "stdout",
     "output_type": "stream",
     "text": [
      "La palabra \"film\" se repitió 443 veces.\n",
      "La palabra \"character\" se repitió 129 veces.\n",
      "La palabra \"best\" se repitió 70 veces.\n",
      "La palabra \"bad\" se repitió 70 veces.\n",
      "La palabra \"audience\" se repitió 57 veces.\n"
     ]
    }
   ],
   "source": [
    "for j in range(5):\n",
    "    print('La palabra \"{}\" se repitió {} veces.'.format(vocab[pos[j]],aux[j]))"
   ]
  },
  {
   "cell_type": "markdown",
   "metadata": {},
   "source": [
    "e) Para tener una visión distinta y entender mejor la representación vectorial realizada, visualice los datos en un plano 2D. Para ésto utilice la técnica LSA (Latent Semantic Analysis) [5] que a diferencia de PCA, no centra los datos antes de realizar la descomposicipon SVD, de ésta manera podrá visualizar el espacio semántico de \"conceptos\" latentes usados en la representación. Coloree cada texto en base a su clase ¿Qué indica lo observado? Comente e interprete los resultados"
   ]
  },
  {
   "cell_type": "code",
   "execution_count": 11,
   "metadata": {},
   "outputs": [
    {
     "data": {
      "image/png": "[encoded data removed]",
      "text/plain": [
       "<Figure size 720x360 with 1 Axes>"
      ]
     },
     "metadata": {
      "needs_background": "light"
     },
     "output_type": "display_data"
    }
   ],
   "source": [
    "from matplotlib import pyplot as plt\n",
    "from sklearn.decomposition import TruncatedSVD\n",
    "model = TruncatedSVD(n_components=2)\n",
    "model.fit(features_train)\n",
    "x_plot = model.transform(features_train)\n",
    "plt.figure(figsize=(10,5))\n",
    "plt.scatter(x_plot[:,0], x_plot[:,1], c=labels_train)\n",
    "plt.show()"
   ]
  },
  {
   "cell_type": "markdown",
   "metadata": {},
   "source": [
    "La representación vectorial logra generar un agrupamiento consistente a lo largo del dataset. Pero según el coloreo claramente las clases positiva y negativa están mezcladas y no se pueden diferenciar con una curva evidente, ya que probablemente cada palabra aún no tiene una representación semántica ni significado para la máquina."
   ]
  },
  {
   "cell_type": "markdown",
   "metadata": {},
   "source": [
    "f) Entrene un modelo de Regresión Logística Regularizado (utilizando como penalizador la norma 𝑙2). Varíe el parámetro de regularización 𝐶, en potencias de 10, midiendo el error de predicción obtenido sobre los datos de entrenamiento y validación, construya un gráfico que muestre la variación de ambos errores respecto al parámetro 𝐶. Explique el significado y valor esperado del parámetro de regularización."
   ]
  },
  {
   "cell_type": "code",
   "execution_count": 12,
   "metadata": {},
   "outputs": [],
   "source": [
    "import warnings\n",
    "warnings.filterwarnings('ignore')\n",
    "from sklearn.linear_model import LogisticRegression\n",
    "def do_LOGIT(x,y,xv,yv, param):\n",
    "    model= LogisticRegression()\n",
    "    model.set_params(C=10**param)\n",
    "    model.fit(x,y)\n",
    "    train_acc = model.score(x,y)\n",
    "    test_acc = model.score(xv,yv)\n",
    "    return model, train_acc, test_acc\n",
    "Cs =[-4,-3,-2,-1,0,1,2,3] #se cambió para que fuera más fácil de visualizar en el gráfico.\n",
    "train_cs_acc = [0,0,0,0,0,0,0,0]\n",
    "test_cs_acc = [0,0,0,0,0,0,0,0]\n",
    "for j in range(len(Cs)):\n",
    "    model, train_acc, test_acc = do_LOGIT(features_train,labels_train,features_val,labels_val, Cs[j])\n",
    "    train_cs_acc[j] = train_acc\n",
    "    test_cs_acc[j] = test_acc"
   ]
  },
  {
   "cell_type": "code",
   "execution_count": 13,
   "metadata": {},
   "outputs": [
    {
     "data": {
      "text/plain": [
       "[<matplotlib.lines.Line2D at 0x7f4e8e7a3e90>]"
      ]
     },
     "execution_count": 13,
     "metadata": {},
     "output_type": "execute_result"
    },
    {
     "data": {
      "image/png": "[encoded data removed]",
      "text/plain": [
       "<Figure size 432x288 with 2 Axes>"
      ]
     },
     "metadata": {
      "needs_background": "light"
     },
     "output_type": "display_data"
    }
   ],
   "source": [
    "fig, (ax1, ax2) = plt.subplots(1,2)\n",
    "fig.suptitle('Regresión Logística')\n",
    "ax1.set(xlabel ='log(C)', ylabel='Accuracy de entrenamiento')\n",
    "ax2.set(xlabel ='log(C)', ylabel='Accuracy de validación')\n",
    "ax1.plot(Cs,train_cs_acc)\n",
    "ax2.plot(Cs,test_cs_acc)"
   ]
  },
  {
   "cell_type": "code",
   "execution_count": 14,
   "metadata": {},
   "outputs": [
    {
     "name": "stdout",
     "output_type": "stream",
     "text": [
      "Reg Logistica: max_acc =0.7232845894263217 , Cs = 0\n"
     ]
    }
   ],
   "source": [
    "max = 0\n",
    "for j in range(len(Cs)):\n",
    "        if test_cs_acc[j] > max:\n",
    "            max = test_cs_acc[j]\n",
    "            pos_j = j\n",
    "print('Reg Logistica: max_acc ={} , Cs = {}'.format(max,Cs[pos_j]))"
   ]
  },
  {
   "cell_type": "markdown",
   "metadata": {},
   "source": [
    "El parámetro de regularización C determina el grado de shrinkage que sufren los coeficientes betha de la solución no regularizada, y por tanto a un mayor C corresponde siempre un mayor (o igual) error de entrenamiento. Es por ello que se ve un score decreciente luego del óptimo en el gráfico del dataset de evaluación, ya que el error aumenta y por tanto la precisión disminuye."
   ]
  },
  {
   "cell_type": "markdown",
   "metadata": {},
   "source": [
    "g) Entrene una Máquina de Soporte Vectorial (SVM) con distintos kernels. Similar a lo anterior, construya un gráfico que muestre la variación de ambos errores respecto al parámetro de regularización 𝐶 para cada tipo de kernel que experimente. Explique el significado y valor esperado de los parámetros en este modelo."
   ]
  },
  {
   "cell_type": "code",
   "execution_count": 15,
   "metadata": {},
   "outputs": [],
   "source": [
    "from sklearn import svm #SVC is for classification\n",
    "def do_SVM(x,y,xv,yv, param, kernel):\n",
    "    #print(\"Param C= \",C, 'Kernel= ', kernel)\n",
    "    model= svm.SVC(kernel=kernel,C=10**param)\n",
    "    #model.set_params(C=param,kernel=kernel) #try rbf and linear at least\n",
    "    model.fit(x,y)\n",
    "    train_acc = model.score(x,y)\n",
    "    test_acc = model.score(xv,yv)\n",
    "    return model, train_acc, test_acc\n",
    "Cs = [-4,-3,-2,-1,0,1,2,3]\n",
    "train_linear = [0,0,0,0,0,0,0,0]\n",
    "test_linear = [0,0,0,0,0,0,0,0]\n",
    "train_rbf = [0,0,0,0,0,0,0,0]\n",
    "test_rbf = [0,0,0,0,0,0,0,0]\n",
    "train_sig = [0,0,0,0,0,0,0,0]\n",
    "test_sig = [0,0,0,0,0,0,0,0]\n",
    "train_poly = [0,0,0,0,0,0,0,0]\n",
    "test_poly = [0,0,0,0,0,0,0,0]\n",
    "for j in range(len(Cs)):\n",
    "    model, train_linear[j], test_linear[j] = do_SVM(features_train,labels_train,features_val,labels_val, Cs[j],'linear')\n",
    "    model, train_rbf[j], test_rbf[j] = do_SVM(features_train,labels_train,features_val,labels_val, Cs[j],'rbf')\n",
    "    model, train_sig[j], test_sig[j] = do_SVM(features_train,labels_train,features_val,labels_val, Cs[j],'sigmoid')"
   ]
  },
  {
   "cell_type": "code",
   "execution_count": 16,
   "metadata": {},
   "outputs": [
    {
     "data": {
      "text/plain": [
       "[<matplotlib.lines.Line2D at 0x7f4e8e4ec390>]"
      ]
     },
     "execution_count": 16,
     "metadata": {},
     "output_type": "execute_result"
    },
    {
     "data": {
      "image/png": "[encoded data removed]",
      "text/plain": [
       "<Figure size 432x288 with 2 Axes>"
      ]
     },
     "metadata": {
      "needs_background": "light"
     },
     "output_type": "display_data"
    },
    {
     "data": {
      "image/png": "[encoded data removed]",
      "text/plain": [
       "<Figure size 432x288 with 2 Axes>"
      ]
     },
     "metadata": {
      "needs_background": "light"
     },
     "output_type": "display_data"
    },
    {
     "data": {
      "image/png": "[encoded data removed]",
      "text/plain": [
       "<Figure size 432x288 with 2 Axes>"
      ]
     },
     "metadata": {
      "needs_background": "light"
     },
     "output_type": "display_data"
    }
   ],
   "source": [
    "fig, (ax1, ax2) = plt.subplots(1,2)\n",
    "fig.suptitle('Kernel Lineal')\n",
    "ax1.set(xlabel ='log(C)', ylabel='Accuracy de entrenamiento')\n",
    "ax2.set(xlabel ='log(C)', ylabel='Accuracy de validación')\n",
    "ax1.plot(Cs,train_linear)\n",
    "ax2.plot(Cs,test_linear)\n",
    "\n",
    "fig, (ax1, ax2) = plt.subplots(1,2)\n",
    "fig.suptitle('Kernel RBF')\n",
    "ax1.set(xlabel ='log(C)', ylabel='Accuracy de entrenamiento')\n",
    "ax2.set(xlabel ='log(C)', ylabel='Accuracy de validación')\n",
    "ax1.plot(Cs,train_rbf)\n",
    "ax2.plot(Cs,test_rbf)\n",
    "\n",
    "fig, (ax1, ax2) = plt.subplots(1,2)\n",
    "fig.suptitle('Kernel Sigmoidal')\n",
    "ax1.set(xlabel ='log(C)', ylabel='Accuracy de entrenamiento')\n",
    "ax2.set(xlabel ='log(C)', ylabel='Accuracy de validación')\n",
    "ax1.plot(Cs,train_sig)\n",
    "ax2.plot(Cs,test_sig)"
   ]
  },
  {
   "cell_type": "code",
   "execution_count": 17,
   "metadata": {},
   "outputs": [
    {
     "name": "stdout",
     "output_type": "stream",
     "text": [
      "Linear: max_acc =0.7142857142857143 , Cs = -1\n",
      "RBF: max_acc =0.7052868391451068 , Cs = 1\n",
      "Sigmoidal: max_acc =0.7131608548931384 , Cs = 0\n"
     ]
    }
   ],
   "source": [
    "max = 0\n",
    "for j in range(len(Cs)):\n",
    "        if test_linear[j] > max:\n",
    "            max = test_linear[j]\n",
    "            pos_j = j\n",
    "print('Linear: max_acc ={} , Cs = {}'.format(max,Cs[pos_j]))\n",
    "max = 0\n",
    "for j in range(len(Cs)):\n",
    "        if test_rbf[j] > max:\n",
    "            max = test_rbf[j]\n",
    "            pos_j = j\n",
    "print('RBF: max_acc ={} , Cs = {}'.format(max,Cs[pos_j]))\n",
    "max = 0\n",
    "for j in range(len(Cs)):\n",
    "        if test_sig[j] > max:\n",
    "            max = test_sig[j]\n",
    "            pos_j = j\n",
    "print('Sigmoidal: max_acc ={} , Cs = {}'.format(max,Cs[pos_j]))"
   ]
  },
  {
   "cell_type": "markdown",
   "metadata": {},
   "source": [
    "En una SVM de clasificación se busca una curva que logre clasificar cada punto (input en el entrenamiento), pero habrá siempre algunos puntos \"indecisos\" que están muy cerca de esa frontera de clasificación. Para ello es necesaria una holgura en esa frontera donde los puntos indecisos son ignorados durante el entrenamiento. "
   ]
  },
  {
   "cell_type": "markdown",
   "metadata": {},
   "source": [
    "El parámetro de regularización C balancea entre la cantidad de puntos ignorados y el margen de holgura obtenido en la SVM. Un valor pequeño de C permite ignorar un gran conjuntos de puntos de entrenamiento enfocando el aprendizaje en la maximización del margen. En cambio un valor grande de C no permite que se ignoren muchos puntos, enfocando el aprendizaje en la minimización del error de entrenamiento."
   ]
  },
  {
   "cell_type": "markdown",
   "metadata": {},
   "source": [
    "Considerando el error en los conjuntos de validación se espera un parámetro C de -1, 0 y 1 respectivamente para Lineal, RBF y Sigmoidal."
   ]
  },
  {
   "cell_type": "markdown",
   "metadata": {},
   "source": [
    "h) Utilice el algoritmo de similaridad k-NN para intentar resolver el problema. Varíe el parámetro de los vecinos 𝑘 en un rango que estime conveniente y realice graficos de errores como en las preguntas anteriores. Comente sobre el valor esperado de este parámetro."
   ]
  },
  {
   "cell_type": "code",
   "execution_count": 18,
   "metadata": {},
   "outputs": [
    {
     "data": {
      "text/plain": [
       "[<matplotlib.lines.Line2D at 0x7f4e8e7ac8d0>]"
      ]
     },
     "execution_count": 18,
     "metadata": {},
     "output_type": "execute_result"
    },
    {
     "data": {
      "image/png": "[encoded data removed]",
      "text/plain": [
       "<Figure size 432x288 with 2 Axes>"
      ]
     },
     "metadata": {
      "needs_background": "light"
     },
     "output_type": "display_data"
    }
   ],
   "source": [
    "from sklearn.neighbors import KNeighborsClassifier\n",
    "def do_KNN(x,y,xv,yv, param):\n",
    "    model = KNeighborsClassifier()\n",
    "    #print(\"Param K= \",param)\n",
    "    model.set_params(n_neighbors=param)\n",
    "    model.fit(x,y)\n",
    "    train_acc = model.score(x,y)\n",
    "    test_acc = model.score(xv,yv)\n",
    "    return model, train_acc, test_acc\n",
    "Ks = np.arange(150, 250, 1)\n",
    "train_knn = np.zeros(len(Ks))\n",
    "test_knn = np.zeros(len(Ks))\n",
    "for j in range(len(Ks)):\n",
    "    model, train_knn[j], test_knn[j] = do_KNN(features_train,labels_train,features_val,labels_val, Ks[j])\n",
    "\n",
    "fig, (ax1, ax2) = plt.subplots(1,2)\n",
    "fig.suptitle('KNN')\n",
    "ax1.set(xlabel ='K', ylabel='Accuracy de entrenamiento')\n",
    "ax2.set(xlabel ='K', ylabel='Accuracy de validación')\n",
    "ax1.plot(Ks,train_knn)\n",
    "ax2.plot(Ks,test_knn)"
   ]
  },
  {
   "cell_type": "code",
   "execution_count": 19,
   "metadata": {},
   "outputs": [
    {
     "name": "stdout",
     "output_type": "stream",
     "text": [
      "max_acc =0.6152980877390326 , Ks = 196\n"
     ]
    }
   ],
   "source": [
    "max = 0\n",
    "pos = 0\n",
    "for i in range(len(test_knn)):\n",
    "    if test_knn[i]>max:\n",
    "        pos = i\n",
    "        max = test_knn[i]\n",
    "print('max_acc ={} , Ks = {}'.format(max,Ks[pos]))"
   ]
  },
  {
   "cell_type": "markdown",
   "metadata": {},
   "source": [
    "Para cada punto se revisa la clasificación de los K más cercanos, y su clasificación correspondera a la clasificación más popular de entre sus vecinos.\n",
    "Del conjunto de validación se puede observar que para K=196 está la mayor precisión, cercana al 61.5%."
   ]
  },
  {
   "cell_type": "markdown",
   "metadata": {},
   "source": [
    "i) Entrene un Arbol de Decisión para resolver el problema. Varíe los parámetros de max depth y min samples split de manera separada, constuyendo gráficos de error respecto a estos parámetros. Los valores que se presentan son sugerencias, no es necesario utilizar los mismos. Comente sobre la diferencia entre la selección de estos dos parámetros."
   ]
  },
  {
   "cell_type": "code",
   "execution_count": 20,
   "metadata": {},
   "outputs": [],
   "source": [
    "from sklearn.tree import DecisionTreeClassifier as Tree\n",
    "def do_Tree(x,y,xv,yv, param_d=None, param_m=2):\n",
    "    model= Tree()\n",
    "    #print(\"Param Max-D= \",param_d, 'Min-samples-S= ', param_m)\n",
    "    model.set_params(max_depth=param_d, min_samples_split=param_m) \n",
    "    model.fit(x,y)\n",
    "    train_acc = model.score(x,y)\n",
    "    test_acc = model.score(xv,yv)\n",
    "    return model, train_acc, test_acc\n",
    "Depths = np.arange(1, 61, 2 ) #choose steps\n",
    "Samples = np.arange(3, 304 , 3 ) #choose steps\n",
    "train_tree =np.zeros((30,101))\n",
    "test_tree =np.zeros((30,101))\n",
    "for i in range(len(Depths)):\n",
    "    for j in range(len(Samples)):\n",
    "        model, train_tree[i][j], test_tree[i][j] = do_Tree(features_train,labels_train,features_val,labels_val,Depths[i],Samples[j])"
   ]
  },
  {
   "cell_type": "code",
   "execution_count": 21,
   "metadata": {},
   "outputs": [
    {
     "name": "stdout",
     "output_type": "stream",
     "text": [
      "max_acc =0.6017997750281214 , Depths = 58, Samples = 48\n"
     ]
    }
   ],
   "source": [
    "max = 0\n",
    "for i in range(len(Depths)):\n",
    "    for j in range(len(Samples)):\n",
    "        if test_tree[i][j] > max:\n",
    "            max = test_tree[i][j]\n",
    "            pos_i = i\n",
    "            pos_j = j\n",
    "print('max_acc ={} , Depths = {}, Samples = {}'.format(max,Depths[pos_i]+1,Samples[pos_j]+3))"
   ]
  },
  {
   "cell_type": "code",
   "execution_count": 22,
   "metadata": {},
   "outputs": [
    {
     "data": {
      "text/plain": [
       "[<matplotlib.lines.Line2D at 0x7f4e8df0ca90>]"
      ]
     },
     "execution_count": 22,
     "metadata": {},
     "output_type": "execute_result"
    },
    {
     "data": {
      "image/png": "[encoded data removed]",
      "text/plain": [
       "<Figure size 432x288 with 5 Axes>"
      ]
     },
     "metadata": {
      "needs_background": "light"
     },
     "output_type": "display_data"
    }
   ],
   "source": [
    "fig, (ax0,ax1, ax2, ax3, ax4) = plt.subplots(1,5)\n",
    "fig.suptitle('Samples variables')\n",
    "ax0.set(xlabel ='Depth 1', ylabel='Accuracy de validación')\n",
    "ax1.set(xlabel ='Depth 12')\n",
    "ax2.set(xlabel ='Depth 32')\n",
    "ax3.set(xlabel ='Depth 52')\n",
    "ax4.set(xlabel ='Depth 60')\n",
    "ax0.plot(Samples,test_tree[0])\n",
    "ax1.plot(Samples,test_tree[5])\n",
    "ax2.plot(Samples,test_tree[15])\n",
    "ax3.plot(Samples,test_tree[25])\n",
    "ax4.plot(Samples,test_tree[29])"
   ]
  },
  {
   "cell_type": "code",
   "execution_count": 23,
   "metadata": {},
   "outputs": [
    {
     "data": {
      "text/plain": [
       "[<matplotlib.lines.Line2D at 0x7f4e8dd3b710>]"
      ]
     },
     "execution_count": 23,
     "metadata": {},
     "output_type": "execute_result"
    },
    {
     "data": {
      "image/png": "[encoded data removed]",
      "text/plain": [
       "<Figure size 432x288 with 5 Axes>"
      ]
     },
     "metadata": {
      "needs_background": "light"
     },
     "output_type": "display_data"
    }
   ],
   "source": [
    "fig, (ax0,ax1, ax2, ax3, ax4) = plt.subplots(1,5)\n",
    "fig.suptitle('Depth variables')\n",
    "ax0.set(xlabel ='Sample 3', ylabel='Accuracy de validación')\n",
    "ax1.set(xlabel ='Sample 18')\n",
    "ax2.set(xlabel ='Depth 153')\n",
    "ax3.set(xlabel ='Depth 228')\n",
    "ax4.set(xlabel ='Depth 303')\n",
    "ax0.plot(Depths,test_tree[:,0])\n",
    "ax1.plot(Depths,test_tree[:,5])\n",
    "ax2.plot(Depths,test_tree[:,50])\n",
    "ax3.plot(Depths,test_tree[:,75])\n",
    "ax4.plot(Depths,test_tree[:,100])"
   ]
  },
  {
   "cell_type": "markdown",
   "metadata": {},
   "source": [
    "Se puede apreciar que a medida que se aumenta la profundidad, el accuracy aumenta. Caso diferente es que los Samples parecieran ser más aleatorios, pero ciertamente se estabiliza su accuracy máximo a medida que aumentan los depths.\n",
    "Para este ejemplo en concreto, la profundidad del árbol tiene una mayor relevancia para el cálculo del accuracy, aunque la cantidad de muestras en la que se divide para cada categoría ayuda a encontrar más rápido el óptimo."
   ]
  },
  {
   "cell_type": "markdown",
   "metadata": {},
   "source": [
    "j) Utilice una Red Neuronal Artificial (ANN) para intentar resolver el problema, como la que se señala a continuación (utilizando el framework de keras): entrenada por 25 iteraciones al dataset (epochs) con un tamaño de batch de 128 para las actualizaciones de los pesos, utilizando SGD con una tasa de aprendizaje 0.1 sobre la función de pérdida binaria de clasificación. La arquitectura de la red contiene una capa de salida con una única neurona que indica la probabilidad de que el texto sea positivo, una capa escondida con número de neuronas 𝑁ℎ y la capa de entrada implícita para 𝑥. Varíe el parámetro que corresponde al número de neuronas en la capa oculta 𝑁ℎ, en potencias de 2, y vuelva a realizar el gráfico de error con respecto al parámetro. Comente."
   ]
  },
  {
   "cell_type": "code",
   "execution_count": 24,
   "metadata": {},
   "outputs": [
    {
     "name": "stderr",
     "output_type": "stream",
     "text": [
      "Using TensorFlow backend.\n"
     ]
    }
   ],
   "source": [
    "from keras.models import Sequential\n",
    "from keras.layers import Dense\n",
    "from keras.optimizers import SGD\n",
    "def do_ANN(x,y, xv,yv, param):\n",
    "    print(\"Neuron hidden = \",param)\n",
    "    model = Sequential()\n",
    "    model.add(Dense(units=param, input_dim=x.shape[1], activation=\"sigmoid\"))\n",
    "    model.add(Dense(1, activation=\"sigmoid\"))\n",
    "    model.compile(optimizer=SGD(lr=0.1), loss=\"binary_crossentropy\", metrics=[\"accuracy\"])\n",
    "    model.fit(x, y, epochs=25, batch_size=128, verbose=0)\n",
    "    train_acc = model.evaluate(x,y, verbose=0)[1] #in position 0 is the loss\n",
    "    test_acc = model.evaluate(xv,yv, verbose=0)[1]\n",
    "    return model, train_acc, test_acc\n",
    "N_h = [2**i for i in range(1,10)]"
   ]
  },
  {
   "cell_type": "code",
   "execution_count": 25,
   "metadata": {},
   "outputs": [
    {
     "name": "stdout",
     "output_type": "stream",
     "text": [
      "Neuron hidden =  2\n",
      "Neuron hidden =  4\n",
      "Neuron hidden =  8\n",
      "Neuron hidden =  16\n",
      "Neuron hidden =  32\n",
      "Neuron hidden =  64\n",
      "Neuron hidden =  128\n",
      "Neuron hidden =  256\n",
      "Neuron hidden =  512\n"
     ]
    }
   ],
   "source": [
    "train_ANN = np.zeros(9)\n",
    "test_ANN = np.zeros(9)\n",
    "for j in range(len(N_h)):\n",
    "    model, train_ANN[j], test_ANN[j] = do_ANN(features_train,labels_train,features_val,labels_val, N_h[j])"
   ]
  },
  {
   "cell_type": "code",
   "execution_count": 26,
   "metadata": {},
   "outputs": [
    {
     "name": "stdout",
     "output_type": "stream",
     "text": [
      "max_acc =0.6332958340644836 , N_n = 4\n"
     ]
    }
   ],
   "source": [
    "max = 0\n",
    "for j in range(len(N_h)):\n",
    "        if test_ANN[j] > max:\n",
    "            max = test_ANN[j]\n",
    "            pos_j = j\n",
    "print('max_acc ={} , N_n = {}'.format(max,N_h[pos_j]))"
   ]
  },
  {
   "cell_type": "code",
   "execution_count": 27,
   "metadata": {},
   "outputs": [
    {
     "data": {
      "text/plain": [
       "[<matplotlib.lines.Line2D at 0x7f4e321a5950>]"
      ]
     },
     "execution_count": 27,
     "metadata": {},
     "output_type": "execute_result"
    },
    {
     "data": {
      "image/png": "[encoded data removed]",
      "text/plain": [
       "<Figure size 432x288 with 2 Axes>"
      ]
     },
     "metadata": {
      "needs_background": "light"
     },
     "output_type": "display_data"
    }
   ],
   "source": [
    "fig, (ax1, ax2) = plt.subplots(1,2)\n",
    "fig.suptitle('ANN')\n",
    "ax1.set(xlabel ='N_h', ylabel='Accuracy de entrenamiento')\n",
    "ax2.set(xlabel ='N_h', ylabel='Accuracy de validación')\n",
    "ax1.plot(N_h,train_ANN)\n",
    "ax2.plot(N_h,test_ANN)"
   ]
  },
  {
   "cell_type": "markdown",
   "metadata": {},
   "source": [
    "La mejor precisión, se alcanza cuando hay una capa escondida de 4 neuronas. Luego a medida que aumenta la cantidad de neuronas, la precisión decae sustancialmente. Al tener una sola capa oculta de profundidad, agregar más neuronas aumenta la dimensionalidad para el cálculo en la capa de salidad."
   ]
  },
  {
   "cell_type": "markdown",
   "metadata": {},
   "source": [
    "k) Ahora evalúe sobre el conjunto de pruebas el mejor modelo obtenido, seleccionado en base a la métrica de desempeño en el conjunto de validación. Comente sobre la calidad obtenida en el problema trabajado ¿Es un buen valor? ¿Cuál podría ser un valor de referencia?"
   ]
  },
  {
   "cell_type": "markdown",
   "metadata": {},
   "source": [
    "La mejor regresión en las pruebas anteriores fue la logística con Cs = 0 y una precisión del 72% aproximada."
   ]
  },
  {
   "cell_type": "code",
   "execution_count": 28,
   "metadata": {},
   "outputs": [
    {
     "name": "stdout",
     "output_type": "stream",
     "text": [
      "acc_train = 0.9924953095684803 , acc_test = 0.7090602138435566\n"
     ]
    }
   ],
   "source": [
    "import warnings\n",
    "warnings.filterwarnings('ignore')\n",
    "from sklearn.linear_model import LogisticRegression\n",
    "def do_LOGIT(x,y,xv,yv, param):\n",
    "    model= LogisticRegression()\n",
    "    model.set_params(C=10**param)\n",
    "    model.fit(x,y)\n",
    "    train_acc = model.score(x,y)\n",
    "    test_acc = model.score(xv,yv)\n",
    "    return model, train_acc, test_acc\n",
    "model, train_acc, test_acc = do_LOGIT(features_train,labels_train,features_test,labels_test, 0)\n",
    "print('acc_train = {} , acc_test = {}'.format(train_acc,test_acc))"
   ]
  },
  {
   "cell_type": "markdown",
   "metadata": {},
   "source": [
    "La precisión en el conjunto de prueba es muy similar a la vista en el conjunto de validación, por lo que la calidad del trabajo se mantuvo. \n",
    "El texto posee ambigüedad debido al pre-procesamiento, en el sentido de que por ejemplo \"i like it\" y \"i do not like it\" son pre-procesados como \"like\" entonces la máquina tendrá que jugársela al 50% para clasificar textos de ese tipo. Es por eso que si se considera que 7 de cada 10 inputs son clasificados correctamente, entonces se puede decir que es un buen valor.\n",
    "A la vez, debido a la ambigüedad descrita anteriormente, un buen valor de referencia sería 60% como los vistos en otros modelos testeados como K-nn, redes neuronales artificiales y árboles de decisión cuyas precisiones fueron del 65% aprox."
   ]
  },
  {
   "cell_type": "markdown",
   "metadata": {},
   "source": [
    "l) Para comparar sus resultados utilice el modelo VADER (Valence Aware Dictionary and sEntiment Reasoner) [6], el cual entrega una score de predicción a nivel léxico (de palabras que comúnmente se asocian a una orientiación positiva o negativa). Este modelo construido manualmente no requiere entrenamiento, por lo que solo debe evaluar en conjunto de pruebas realizando predicciones del texto bruto (sin pre-procesamiento). Comente."
   ]
  },
  {
   "cell_type": "code",
   "execution_count": 29,
   "metadata": {},
   "outputs": [
    {
     "data": {
      "text/plain": [
       "0.6359032076533483"
      ]
     },
     "execution_count": 29,
     "metadata": {},
     "output_type": "execute_result"
    }
   ],
   "source": [
    "from vaderSentiment.vaderSentiment import SentimentIntensityAnalyzer \n",
    "def vader_predict(sentences): \n",
    "    sid_obj = SentimentIntensityAnalyzer() \n",
    "    sent_v = []\n",
    "    for text in sentences:\n",
    "        sentiment_dict = sid_obj.polarity_scores(text) \n",
    "        if sentiment_dict[\"pos\"] > sentiment_dict[\"neg\"]: #based on scores\n",
    "            sent_v.append(1)\n",
    "        else:\n",
    "            sent_v.append(0)\n",
    "    return np.asarray(sent_v)\n",
    "vader_pred_test = vader_predict(df_test_text) \n",
    "from sklearn.metrics import accuracy_score\n",
    "accuracy_score(labels_test, vader_pred_test)"
   ]
  },
  {
   "cell_type": "markdown",
   "metadata": {},
   "source": [
    "La precisión del modelo VADER fue de un 64% aprox, muy similar a los resultados obtenidos con K-nn, redes neuronales artificiales y árboles de decisión. A la vez regresión logísitica y las SVM (lineal, sigmoidal y rbf) fueron superiores.\n",
    "Esto sugiere que el supuesto de ambigüedad descrito anteriormente se valida, y que por ende las modelos trabajados hasta ahora responder de la forma más eficiente posible (conforme a las herramientas que poseemos hasta ahora en el curso)."
   ]
  },
  {
   "cell_type": "markdown",
   "metadata": {},
   "source": [
    "m) Bajo la idea del modelo VADER realice un análisis de qué palabras su modelo tiende a considerar como positivas o negativas por si solas. Algunos de los modelos estudiados en esta sección realizan una predicción probabilista, utilice uno de éstos para verificar lo solicitado. Sobre la representación TF genere datos de entradas que contengan una sola palabra del vocabulario para evaluar que predicción les genera su modelo a esas palabras. Muestre las palabras más negativas y positivas en el vocabulario consideradas por su modelo. Comente."
   ]
  },
  {
   "cell_type": "markdown",
   "metadata": {},
   "source": [
    "El modelo a utilizar es el KNN, aunque también es posible utilizar un modelo no probabilistico utilizando un calibrador como \"CalibratedClassifierCV(model)\"."
   ]
  },
  {
   "cell_type": "code",
   "execution_count": 30,
   "metadata": {},
   "outputs": [],
   "source": [
    "from sklearn.neighbors import KNeighborsClassifier\n",
    "def do_KNN(x,y,xv,yv, param):\n",
    "    model = KNeighborsClassifier()\n",
    "    #print(\"Param K= \",param)\n",
    "    model.set_params(n_neighbors=param)\n",
    "    model.fit(x,y)\n",
    "    train_acc = model.score(x,y)\n",
    "    test_acc = model.score(xv,yv)\n",
    "    return model, train_acc, test_acc\n",
    "model, train_acc, test_acc = do_LOGIT(features_train,labels_train,features_test,labels_test, 196)"
   ]
  },
  {
   "cell_type": "code",
   "execution_count": 31,
   "metadata": {},
   "outputs": [],
   "source": [
    "V = len(vocab)\n",
    "word_scores = np.zeros((V, 2))\n",
    "for i in range(V):\n",
    "    x_word = np.zeros((1, V))\n",
    "    x_word[:,i] = 1 # only the \"i\" word appeared\n",
    "    word_scores[i] = model.predict_proba(x_word)"
   ]
  },
  {
   "cell_type": "code",
   "execution_count": 32,
   "metadata": {},
   "outputs": [],
   "source": [
    "max = 0\n",
    "max1= 0\n",
    "max2= 0\n",
    "max3= 0\n",
    "max4= 0\n",
    "max5= 0\n",
    "min = 100000\n",
    "min1 = 100000\n",
    "min2 = 100000\n",
    "min3 = 100000\n",
    "min4 = 100000\n",
    "min5 = 100000\n",
    "for i in range(V):\n",
    "    a = word_scores[i][1] #segunda columna, correspondiente a la clase 1 o positiva\n",
    "    if a>max:\n",
    "        max = word_scores[i][1]\n",
    "        max5=max4\n",
    "        max4=max3\n",
    "        max3=max2\n",
    "        max2=max1\n",
    "        max1 = i\n",
    "    if a<min:\n",
    "        min = word_scores[i][1]\n",
    "        min5=min4\n",
    "        min4=min3\n",
    "        min3=min2\n",
    "        min2=min1\n",
    "        min1 = i"
   ]
  },
  {
   "cell_type": "code",
   "execution_count": 33,
   "metadata": {},
   "outputs": [
    {
     "name": "stdout",
     "output_type": "stream",
     "text": [
      "La palabra postiva con mejor puntaje fue \"world\".\n",
      "La palabra postiva con 2do mejor puntaje fue \"moving\".\n",
      "La palabra postiva con 3er mejor puntaje fue \"heart\".\n",
      "La palabra postiva con 4to mejor puntaje fue \"beautiful\".\n",
      "La palabra postiva con 5to mejor puntaje fue \"always\".\n",
      "\n",
      "\n",
      "La palabra negativa con peor puntaje fue \"cliche\".\n",
      "La palabra negativa con 2do peor puntaje fue \"boring\".\n",
      "La palabra negativa con 3er peor puntaje fue \"bad\".\n",
      "La palabra negativa con 4to peor puntaje fue \"apparent\".\n",
      "La palabra negativa con 5to peor puntaje fue \"already\".\n"
     ]
    }
   ],
   "source": [
    "print('La palabra postiva con mejor puntaje fue \"{}\".'.format(vocab[max1]))\n",
    "print('La palabra postiva con 2do mejor puntaje fue \"{}\".'.format(vocab[max2]))\n",
    "print('La palabra postiva con 3er mejor puntaje fue \"{}\".'.format(vocab[max3]))\n",
    "print('La palabra postiva con 4to mejor puntaje fue \"{}\".'.format(vocab[max4]))\n",
    "print('La palabra postiva con 5to mejor puntaje fue \"{}\".'.format(vocab[max5]))\n",
    "print('\\n')\n",
    "print('La palabra negativa con peor puntaje fue \"{}\".'.format(vocab[min1]))\n",
    "print('La palabra negativa con 2do peor puntaje fue \"{}\".'.format(vocab[min2]))\n",
    "print('La palabra negativa con 3er peor puntaje fue \"{}\".'.format(vocab[min3]))\n",
    "print('La palabra negativa con 4to peor puntaje fue \"{}\".'.format(vocab[min4]))\n",
    "print('La palabra negativa con 5to peor puntaje fue \"{}\".'.format(vocab[min5]))"
   ]
  },
  {
   "cell_type": "markdown",
   "metadata": {},
   "source": [
    "En el caso de las palabras positivas es más notorio que lo son, ya que moving (de conmover), heart y beautiful tienen un significado positivo. En cambio, de las negativas, sólo bad tiene un enfoque puramente negativo y las otras palabras probablemente dependen del contexto de la frase, por ejemplo \"actor\" seguramente venía acomapañda de una critica destructiva a tal actor."
   ]
  },
  {
   "cell_type": "markdown",
   "metadata": {},
   "source": [
    "n) Intente mejorar los resultados de otra manera. Varíe el pre-procesamiento realizado a los datos en c), por ejemplo eliminar símbolos, números o aplicar la técnica de stemmming [7] en lugar de lemmatization para llevar a su tronco léxico."
   ]
  },
  {
   "cell_type": "code",
   "execution_count": 34,
   "metadata": {},
   "outputs": [],
   "source": [
    "import re, time\n",
    "from nltk.stem.porter import PorterStemmer\n",
    "from nltk.corpus import stopwords\n",
    "from nltk import word_tokenize\n",
    "def base_word(word):\n",
    "    wordstemmer = PorterStemmer()\n",
    "    return wordstemmer.stem(word) \n",
    "def word_extractor(text):\n",
    "    commonwords = stopwords.words('english')\n",
    "    text = re.sub(r'([a-z])\\1+', r'\\1\\1',text) #substitute multiple letter by two\n",
    "    text = re.sub(r'[0-9]+', '', text) #se eliminan los números\n",
    "    words = \"\"\n",
    "    wordtokens = [ base_word(word.lower()) for word in word_tokenize(text) ]\n",
    "    for word in wordtokens:\n",
    "        if word not in commonwords: #delete stopwords\n",
    "            words+=\" \"+word\n",
    "    return words"
   ]
  },
  {
   "cell_type": "code",
   "execution_count": 35,
   "metadata": {},
   "outputs": [],
   "source": [
    "texts_train2 = [word_extractor(text) for text in df_train_text]\n",
    "texts_val2 = [word_extractor(text) for text in df_val_text]\n",
    "texts_test2 = [word_extractor(text) for text in df_test_text]"
   ]
  },
  {
   "cell_type": "code",
   "execution_count": 36,
   "metadata": {},
   "outputs": [],
   "source": [
    "import numpy as np\n",
    "from sklearn.feature_extraction.text import CountVectorizer\n",
    "vectorizer = CountVectorizer(ngram_range=(1, 1), binary=False) #TF representation\n",
    "vectorizer.fit(texts_train2)\n",
    "features_train = vectorizer.transform(texts_train2)\n",
    "features_val = vectorizer.transform(texts_val2)\n",
    "features_test = vectorizer.transform(texts_test2)\n",
    "vocab = vectorizer.get_feature_names()\n",
    "dist=list(np.array(features_train.sum(axis=0)).reshape(-1,))"
   ]
  },
  {
   "cell_type": "code",
   "execution_count": 37,
   "metadata": {},
   "outputs": [],
   "source": [
    "from sklearn.neighbors import KNeighborsClassifier\n",
    "def do_KNN(x,y,xv,yv, param):\n",
    "    model = KNeighborsClassifier()\n",
    "    #print(\"Param K= \",param)\n",
    "    model.set_params(n_neighbors=param)\n",
    "    model.fit(x,y)\n",
    "    train_acc = model.score(x,y)\n",
    "    test_acc = model.score(xv,yv)\n",
    "    return model, train_acc, test_acc\n",
    "model, train_acc, test_acc = do_LOGIT(features_train,labels_train,features_test,labels_test, 196)"
   ]
  },
  {
   "cell_type": "code",
   "execution_count": 38,
   "metadata": {},
   "outputs": [],
   "source": [
    "V = len(vocab)\n",
    "word_scores = np.zeros((V, 2))\n",
    "for i in range(V):\n",
    "    x_word = np.zeros((1, V))\n",
    "    x_word[:,i] = 1 # only the \"i\" word appeared\n",
    "    word_scores[i] = model.predict_proba(x_word)"
   ]
  },
  {
   "cell_type": "code",
   "execution_count": 39,
   "metadata": {},
   "outputs": [],
   "source": [
    "max = 0\n",
    "max1= 0\n",
    "max2= 0\n",
    "max3= 0\n",
    "max4= 0\n",
    "max5= 0\n",
    "min = 100000\n",
    "min1 = 100000\n",
    "min2 = 100000\n",
    "min3 = 100000\n",
    "min4 = 100000\n",
    "min5 = 100000\n",
    "for i in range(V):\n",
    "    a = word_scores[i][1] #segunda columna, correspondiente a la clase 1 o positiva\n",
    "    if a>max:\n",
    "        max = word_scores[i][1]\n",
    "        max5=max4\n",
    "        max4=max3\n",
    "        max3=max2\n",
    "        max2=max1\n",
    "        max1 = i\n",
    "    if a<min:\n",
    "        min = word_scores[i][1]\n",
    "        min5=min4\n",
    "        min4=min3\n",
    "        min3=min2\n",
    "        min2=min1\n",
    "        min1 = i"
   ]
  },
  {
   "cell_type": "markdown",
   "metadata": {},
   "source": [
    "Utilizando la técnica de Stemming y a la vez eliminando los números se obtienen las siguientes palabras:"
   ]
  },
  {
   "cell_type": "code",
   "execution_count": 40,
   "metadata": {},
   "outputs": [
    {
     "name": "stdout",
     "output_type": "stream",
     "text": [
      "La palabra postiva con mejor puntaje fue \"world\".\n",
      "La palabra postiva con 2do mejor puntaje fue \"open\".\n",
      "La palabra postiva con 3er mejor puntaje fue \"histori\".\n",
      "La palabra postiva con 4to mejor puntaje fue \"heart\".\n",
      "La palabra postiva con 5to mejor puntaje fue \"complex\".\n",
      "\n",
      "\n",
      "La palabra negativa con peor puntaje fue \"silli\".\n",
      "La palabra negativa con 2do peor puntaje fue \"bore\".\n",
      "La palabra negativa con 3er peor puntaje fue \"bad\".\n",
      "La palabra negativa con 4to peor puntaje fue \"appar\".\n",
      "La palabra negativa con 5to peor puntaje fue \"alreadi\".\n"
     ]
    }
   ],
   "source": [
    "print('La palabra postiva con mejor puntaje fue \"{}\".'.format(vocab[max1]))\n",
    "print('La palabra postiva con 2do mejor puntaje fue \"{}\".'.format(vocab[max2]))\n",
    "print('La palabra postiva con 3er mejor puntaje fue \"{}\".'.format(vocab[max3]))\n",
    "print('La palabra postiva con 4to mejor puntaje fue \"{}\".'.format(vocab[max4]))\n",
    "print('La palabra postiva con 5to mejor puntaje fue \"{}\".'.format(vocab[max5]))\n",
    "print('\\n')\n",
    "print('La palabra negativa con peor puntaje fue \"{}\".'.format(vocab[min1]))\n",
    "print('La palabra negativa con 2do peor puntaje fue \"{}\".'.format(vocab[min2]))\n",
    "print('La palabra negativa con 3er peor puntaje fue \"{}\".'.format(vocab[min3]))\n",
    "print('La palabra negativa con 4to peor puntaje fue \"{}\".'.format(vocab[min4]))\n",
    "print('La palabra negativa con 5to peor puntaje fue \"{}\".'.format(vocab[min5]))"
   ]
  },
  {
   "cell_type": "markdown",
   "metadata": {},
   "source": [
    "El resultado es un poco más confuso ya que se eliminan algunas letras como la \"s\", la \"e\" o \"ent\"."
   ]
  },
  {
   "cell_type": "markdown",
   "metadata": {},
   "source": [
    "o) Varíe la representación utilizada actualmente por alguna otra que ayude a mejorar el desempeño, por ejemplo reducir el peso de una palabra si es que aparece en muchos textos: TF-IDF. Existen varias opciones que podría realizar para mejorar el desempeño, por ejemplo reducir el vocabulario a las 𝐾 palabras más frecuentes, eliminar las palabras menos frecuentes, normalizar la representación, utilizar n-gramas, entre otras."
   ]
  },
  {
   "cell_type": "code",
   "execution_count": 41,
   "metadata": {},
   "outputs": [
    {
     "name": "stdout",
     "output_type": "stream",
     "text": [
      "acc_train = 0.9358348968105066 , acc_test = 0.7318514350028137\n"
     ]
    }
   ],
   "source": [
    "from sklearn.feature_extraction.text import TfidfVectorizer\n",
    "tfidf_model = TfidfVectorizer(binary=False, ngram_range=(1, 1), max_df=1.0, min_df=1, max_features=None, norm='l2', use_idf=True, sublinear_tf=False)\n",
    "tfidf_model.fit(texts_train2)\n",
    "features_train = tfidf_model.transform(texts_train2)\n",
    "features_val = tfidf_model.transform(texts_val2)\n",
    "features_test = tfidf_model.transform(texts_test2)\n",
    "vocab = tfidf_model.get_feature_names()\n",
    "dist=list(np.array(features_train.sum(axis=0)).reshape(-1,))\n",
    "\n",
    "import warnings\n",
    "warnings.filterwarnings('ignore')\n",
    "from sklearn.linear_model import LogisticRegression\n",
    "def do_LOGIT(x,y,xv,yv, param):\n",
    "    model= LogisticRegression()\n",
    "    model.set_params(C=10**param)\n",
    "    model.fit(x,y)\n",
    "    train_acc = model.score(x,y)\n",
    "    test_acc = model.score(xv,yv)\n",
    "    return model, train_acc, test_acc\n",
    "model, train_acc, test_acc = do_LOGIT(features_train,labels_train,features_test,labels_test, 0)\n",
    "print('acc_train = {} , acc_test = {}'.format(train_acc,test_acc))"
   ]
  },
  {
   "cell_type": "markdown",
   "metadata": {},
   "source": [
    "La precisión del modelo mejoró un 1% con los cambios efectuados anteriormente."
   ]
  },
  {
   "cell_type": "markdown",
   "metadata": {},
   "source": [
    "p) Utilice métricas auxiliares para entender en qué falla su mejor modelo obtenido hasta el momento. ¿La información entregada indica cómo se podría mejorar o cual sería la causa de la falla?"
   ]
  },
  {
   "cell_type": "code",
   "execution_count": 42,
   "metadata": {},
   "outputs": [
    {
     "name": "stdout",
     "output_type": "stream",
     "text": [
      "Detailed Analysis Testing Results ...\n",
      "              precision    recall  f1-score   support\n",
      "\n",
      "           -       0.74      0.74      0.74      1803\n",
      "           +       0.73      0.73      0.73      1751\n",
      "\n",
      "    accuracy                           0.73      3554\n",
      "   macro avg       0.73      0.73      0.73      3554\n",
      "weighted avg       0.73      0.73      0.73      3554\n",
      "\n"
     ]
    }
   ],
   "source": [
    "from sklearn.metrics import classification_report\n",
    "def score_the_model(model, x, y):\n",
    "    print(\"Detailed Analysis Testing Results ...\")\n",
    "    print(classification_report(y, model.predict(x), target_names=['-','+']))\n",
    "score_the_model(model, features_test, labels_test )"
   ]
  },
  {
   "cell_type": "markdown",
   "metadata": {},
   "source": [
    "Debido a la similitud entre los datos no hay nada que se pueda inferir."
   ]
  },
  {
   "cell_type": "markdown",
   "metadata": {},
   "source": [
    "q) Algo que se puede modificar en algunos modelos de aprendizaje es poner peso en cada una de las clases, por ejemplo si una clase es de mayor interés que las otras e interesa reducir más su error. En sklearn ésto puede ser realizado con el parámetro de class_weights. Por ejemplo, asigne que detectar los textos negativos me interesa 5 veces más que detectar los textos positivos. Comente."
   ]
  },
  {
   "cell_type": "code",
   "execution_count": 43,
   "metadata": {},
   "outputs": [
    {
     "name": "stdout",
     "output_type": "stream",
     "text": [
      "acc_train = 0.6375234521575985 , acc_test = 0.5756893640967924\n"
     ]
    }
   ],
   "source": [
    "import warnings\n",
    "warnings.filterwarnings('ignore')\n",
    "from sklearn.linear_model import LogisticRegression\n",
    "classes_weights = {0: 5, 1: 1}\n",
    "def do_LOGIT(x,y,xv,yv, param):\n",
    "    model= LogisticRegression()\n",
    "    model.set_params(class_weight=classes_weights,C=10**param)\n",
    "    model.fit(x,y)\n",
    "    train_acc = model.score(x,y)\n",
    "    test_acc = model.score(xv,yv)\n",
    "    return model, train_acc, test_acc\n",
    "model, train_acc, test_acc = do_LOGIT(features_train,labels_train,features_test,labels_test, 0)\n",
    "print('acc_train = {} , acc_test = {}'.format(train_acc,test_acc))"
   ]
  },
  {
   "cell_type": "markdown",
   "metadata": {},
   "source": [
    "El accuracy en el set de prueba disminuyo en 15%."
   ]
  },
  {
   "cell_type": "code",
   "execution_count": 44,
   "metadata": {},
   "outputs": [
    {
     "name": "stdout",
     "output_type": "stream",
     "text": [
      "Detailed Analysis Testing Results ...\n",
      "              precision    recall  f1-score   support\n",
      "\n",
      "           -       0.55      0.99      0.70      1803\n",
      "           +       0.94      0.15      0.26      1751\n",
      "\n",
      "    accuracy                           0.58      3554\n",
      "   macro avg       0.74      0.57      0.48      3554\n",
      "weighted avg       0.74      0.58      0.48      3554\n",
      "\n"
     ]
    }
   ],
   "source": [
    "from sklearn.metrics import classification_report\n",
    "def score_the_model(model, x, y):\n",
    "    print(\"Detailed Analysis Testing Results ...\")\n",
    "    print(classification_report(y, model.predict(x), target_names=['-','+']))\n",
    "score_the_model(model, features_test, labels_test )"
   ]
  },
  {
   "cell_type": "markdown",
   "metadata": {},
   "source": [
    "De acuerdo a \"precision\", las palabras negativas bajaron su precisión al 55% pero su recall aumento al 99%. Caso contrario las palabrasa positivas aumentaron su precision al 94% pero su recall disminuyó al 15%. En el caso general recall y f1-score disminuyeron casi 15% y 25% respectivamente en comparación al caso anterior."
   ]
  },
  {
   "cell_type": "markdown",
   "metadata": {},
   "source": [
    "El recall al tener un valor casi del 100% en los negativos indica que es casi imposible que el modelo tenga falsos positivos con respecto a los negativos. En ese sentido asignarle los pesos fue provechoso, pero respecto a los positivos casi siempre arroja falsos positivos."
   ]
  },
  {
   "cell_type": "markdown",
   "metadata": {},
   "source": [
    "r) Visualice la clasificación que realiza su mejor modelo sobre algunos textos de pruebas ¿Qué entega mas información, una predicción categórica o una continua? ¿Cuál podría ser el beneficio de una o de otra? Comente"
   ]
  },
  {
   "cell_type": "code",
   "execution_count": 45,
   "metadata": {},
   "outputs": [
    {
     "name": "stdout",
     "output_type": "stream",
     "text": [
      "True sent:  0.0 -- Pred sent:  [0.84907607 0.15092393]\n",
      "Raw text:  a generic family comedy unlikely to be appreciated by anyone outside the under-10 set .\n",
      "\n",
      "True sent:  0.0 -- Pred sent:  [0.78500217 0.21499783]\n",
      "Raw text:  one of those staggeringly well-produced , joylessly extravagant pictures that keep whooshing you from one visual marvel to the next , hastily , emptily .\n",
      "\n",
      "True sent:  0.0 -- Pred sent:  [0.72588401 0.27411599]\n",
      "Raw text:  'yes , that's right : it's forrest gump , angel of death . '\n",
      "\n",
      "True sent:  0.0 -- Pred sent:  [0.90225852 0.09774148]\n",
      "Raw text:  a surprisingly flat retread , hobbled by half-baked setups and sluggish pacing .\n",
      "\n",
      "True sent:  0.0 -- Pred sent:  [0.83551645 0.16448355]\n",
      "Raw text:  jacobi , the most fluent of actors , is given relatively dry material from nijinsky's writings to perform , and the visuals , even erotically frank ones , become dullingly repetitive .\n",
      "\n",
      "True sent:  0.0 -- Pred sent:  [0.7279771 0.2720229]\n",
      "Raw text:  . . . hopefully it'll be at the dollar theatres by the time christmas rolls around . wait to see it then .\n",
      "\n",
      "True sent:  0.0 -- Pred sent:  [0.88699234 0.11300766]\n",
      "Raw text:  eight legged freaks falls flat as a spoof .\n",
      "\n",
      "True sent:  1.0 -- Pred sent:  [0.59125224 0.40874776]\n",
      "Raw text:  as broad and cartoonish as the screenplay is , there is an accuracy of observation in the work of the director , frank novak , that keeps the film grounded in an undeniable social realism .\n",
      "\n",
      "True sent:  0.0 -- Pred sent:  [0.89294616 0.10705384]\n",
      "Raw text:  this bond film goes off the beaten path , not necessarily for the better .\n",
      "\n",
      "True sent:  1.0 -- Pred sent:  [0.5078788 0.4921212]\n",
      "Raw text:  peralta captures , in luminous interviews and amazingly evocative film from three decades ago , the essence of the dogtown experience .\n",
      "\n",
      "True sent:  1.0 -- Pred sent:  [0.61008462 0.38991538]\n",
      "Raw text:  a wonderful character-based comedy .\n",
      "\n",
      "True sent:  0.0 -- Pred sent:  [0.80640371 0.19359629]\n",
      "Raw text:  shankman . . . and screenwriter karen janszen bungle their way through the narrative as if it were a series of bible parables and not an actual story .\n",
      "\n",
      "True sent:  1.0 -- Pred sent:  [0.57288248 0.42711752]\n",
      "Raw text:  having never been a huge fan of dickens' 800-page novel , it surprised me how much pleasure i had watching mcgrath's version .\n",
      "\n",
      "True sent:  0.0 -- Pred sent:  [0.80996778 0.19003222]\n",
      "Raw text:  this is just lazy writing . even kids deserve better .\n",
      "\n",
      "True sent:  0.0 -- Pred sent:  [0.83416561 0.16583439]\n",
      "Raw text:  for a movie about the power of poetry and passion , there is precious little of either .\n",
      "\n"
     ]
    }
   ],
   "source": [
    "test_pred = model.predict_proba(features_test) #or \".predict\"\n",
    "spl = np.random.randint( 0, len(test_pred), size=15)\n",
    "for text, pred_s, true_s in zip(df_test_text[spl], test_pred[spl], labels_test[spl]):\n",
    "    print(\"True sent: \", true_s, \"-- Pred sent: \",pred_s)\n",
    "    print(\"Raw text: \", text)"
   ]
  },
  {
   "cell_type": "markdown",
   "metadata": {},
   "source": [
    "Los negativos los escoge correctamente, pero en los positivos siempre falla. Eso es porque está usando el modelo con pesos utilizado anteriormente.\n",
    "Si utilizamos un modelo sin pesos, o con pesos equilibrados entonces:"
   ]
  },
  {
   "cell_type": "code",
   "execution_count": 46,
   "metadata": {},
   "outputs": [
    {
     "name": "stdout",
     "output_type": "stream",
     "text": [
      "acc_train = 0.9358348968105066 , acc_test = 0.7318514350028137\n"
     ]
    }
   ],
   "source": [
    "import warnings\n",
    "warnings.filterwarnings('ignore')\n",
    "from sklearn.linear_model import LogisticRegression\n",
    "classes_weights = {0: 1, 1: 1}\n",
    "def do_LOGIT(x,y,xv,yv, param):\n",
    "    model= LogisticRegression()\n",
    "    model.set_params(class_weight=classes_weights,C=10**param)\n",
    "    model.fit(x,y)\n",
    "    train_acc = model.score(x,y)\n",
    "    test_acc = model.score(xv,yv)\n",
    "    return model, train_acc, test_acc\n",
    "model, train_acc, test_acc = do_LOGIT(features_train,labels_train,features_test,labels_test, 0)\n",
    "print('acc_train = {} , acc_test = {}'.format(train_acc,test_acc))"
   ]
  },
  {
   "cell_type": "code",
   "execution_count": 47,
   "metadata": {},
   "outputs": [
    {
     "name": "stdout",
     "output_type": "stream",
     "text": [
      "True sent:  1.0 -- Pred sent:  [0.37005415 0.62994585]\n",
      "Raw text:  a rigorously structured and exquisitely filmed drama about a father and son connection that is a brief shooting star of love .\n",
      "\n",
      "True sent:  1.0 -- Pred sent:  [0.71124118 0.28875882]\n",
      "Raw text:  like these russo guys lookin' for their mamet instead found their sturges .\n",
      "\n",
      "True sent:  1.0 -- Pred sent:  [0.30727031 0.69272969]\n",
      "Raw text:  this engrossing , characteristically complex tom clancy thriller is shifty in the manner in which it addresses current terrorism anxieties and sidesteps them at the same time .\n",
      "\n",
      "True sent:  1.0 -- Pred sent:  [0.31908105 0.68091895]\n",
      "Raw text:  the artwork is spectacular and unlike most animaton from japan , the characters move with grace and panache .\n",
      "\n",
      "True sent:  0.0 -- Pred sent:  [0.44509205 0.55490795]\n",
      "Raw text:  in the second half of the film , frei's control loosens in direct proportion to the amount of screen time he gives nachtwey for self-analysis .\n",
      "\n",
      "True sent:  0.0 -- Pred sent:  [0.50527823 0.49472177]\n",
      "Raw text:  the lead actors share no chemistry or engaging charisma . we don't even like their characters .\n",
      "\n",
      "True sent:  1.0 -- Pred sent:  [0.54095866 0.45904134]\n",
      "Raw text:  there is a subversive element to this disney cartoon , providing unexpected fizzability .\n",
      "\n",
      "True sent:  0.0 -- Pred sent:  [0.60201765 0.39798235]\n",
      "Raw text:  for something as splendid-looking as this particular film , the viewer expects something special but instead gets [sci-fi] rehash .\n",
      "\n",
      "True sent:  0.0 -- Pred sent:  [0.66274649 0.33725351]\n",
      "Raw text:  a glossy knock-off of a b-movie revenge flick .\n",
      "\n",
      "True sent:  0.0 -- Pred sent:  [0.52890196 0.47109804]\n",
      "Raw text:  both the crime story and the love story are unusual . but they don't fit well together and neither is well told .\n",
      "\n",
      "True sent:  1.0 -- Pred sent:  [0.46839877 0.53160123]\n",
      "Raw text:  angela gheorghiu as famous prima donna floria tosca , roberto alagna as her lover mario cavaradossi , and ruggero as the villainous , lecherous police chief scarpia , all sing beautifully and act adequately .\n",
      "\n",
      "True sent:  0.0 -- Pred sent:  [0.73392029 0.26607971]\n",
      "Raw text:  yet another self-consciously overwritten story about a rag-tag bunch of would-be characters that team up for a can't-miss heist -- only to have it all go wrong .\n",
      "\n",
      "True sent:  1.0 -- Pred sent:  [0.38196109 0.61803891]\n",
      "Raw text:  miller tells this very compelling tale with little fuss or noise , expertly plucking tension from quiet .\n",
      "\n",
      "True sent:  0.0 -- Pred sent:  [0.52020421 0.47979579]\n",
      "Raw text:  . . . would be a total loss if not for two supporting performances taking place at the movie's edges .\n",
      "\n",
      "True sent:  1.0 -- Pred sent:  [0.54090477 0.45909523]\n",
      "Raw text:  a perfectly competent and often imaginative film that lacks what little lilo & stitch had in spades -- charisma .\n",
      "\n"
     ]
    }
   ],
   "source": [
    "test_pred = model.predict_proba(features_test) #or \".predict\"\n",
    "spl = np.random.randint( 0, len(test_pred), size=15)\n",
    "for text, pred_s, true_s in zip(df_test_text[spl], test_pred[spl], labels_test[spl]):\n",
    "    print(\"True sent: \", true_s, \"-- Pred sent: \",pred_s)\n",
    "    print(\"Raw text: \", text)"
   ]
  },
  {
   "cell_type": "markdown",
   "metadata": {},
   "source": [
    "En general, entre 3 y 5 textos de los 15 los clasifica mal. Lo que se corresponde al 73% de accuracy observado."
   ]
  },
  {
   "cell_type": "markdown",
   "metadata": {},
   "source": [
    "La predicción continua entrega más información, ya que a través de las probabilidades se puede dar cuenta de cuánto margen de acertar existe. También a través de esta se puede determinar dar \"pesos\" a las clases para hacer otro tipo de consultas al modelo."
   ]
  },
  {
   "cell_type": "markdown",
   "metadata": {},
   "source": [
    "s) Comente sobre el desempeño obtenido por los diferentes modelos de aprendizaje utilizados al enfrentar el problema, ¿Dónde pareciera estar la mejora? ¿En la variación de los modelos y sus parámetros o en la modificación de la representación? ¿Cuál modelo de aprendizaje le parece mejor en base a su criterio? ya sea desempeño, tiempo de ejecución comodidad en las decisiones involucradas, etc."
   ]
  },
  {
   "cell_type": "markdown",
   "metadata": {},
   "source": [
    "Tanto regresión logística como las SVM resultaron ser superior en accuracy y en tiempo, en especial regresión logística el cual fue el mejor modelo."
   ]
  },
  {
   "cell_type": "markdown",
   "metadata": {},
   "source": [
    "Si bien, la elección del modelo fue importante, la elección correcta de los parámetros lo era aún más, ya que dependiendo de los parámetros el accuracy era apenas superior al 50% y en el óptimo, incluso en los peores modelos, estuvieron apenas un 6% por debajo del mejor modelo."
   ]
  },
  {
   "cell_type": "markdown",
   "metadata": {},
   "source": [
    "La representación de los datos tuvo un gran impacto en los datos al eliminar palabras innecesarias. Pero una vez ya eliminadas las stopwords y números, independiente de la ténica de pre-procesamiento, el porcentaje de accuracy no variaba mucho."
   ]
  },
  {
   "cell_type": "markdown",
   "metadata": {},
   "source": [
    "El mejor modelo, en accuracy fue la regresión logísitica, pero teniendo en cuenta la búsqueda del parámetro óptimo, el mejor modelo en tiempo y accuracy fue SVM (kernel linear) ya que el rango de su parámetro permitió una búsqueda rápida del óptimo. "
   ]
  },
  {
   "cell_type": "code",
   "execution_count": null,
   "metadata": {},
   "outputs": [],
   "source": []
  }
 ],
 "metadata": {
  "kernelspec": {
   "display_name": "Python 3",
   "language": "python",
   "name": "python3"
  },
  "language_info": {
   "codemirror_mode": {
    "name": "ipython",
    "version": 3
   },
   "file_extension": ".py",
   "mimetype": "text/x-python",
   "name": "python",
   "nbconvert_exporter": "python",
   "pygments_lexer": "ipython3",
   "version": "3.7.5"
  }
 },
 "nbformat": 4,
 "nbformat_minor": 2
}
