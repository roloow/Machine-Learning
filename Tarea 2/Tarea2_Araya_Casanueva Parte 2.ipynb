{
 "cells": [
  {
   "cell_type": "markdown",
   "metadata": {},
   "source": [
    "## 2. Problema de Múltiples Anotaciones"
   ]
  },
  {
   "cell_type": "code",
   "execution_count": 430,
   "metadata": {},
   "outputs": [],
   "source": [
    "import pandas as pd\n",
    "import numpy as np\n",
    "import matplotlib.pyplot as plt\n",
    "import seaborn as sns\n",
    "\n",
    "from sklearn.model_selection import train_test_split\n",
    "from sklearn.manifold import TSNE\n",
    "from sklearn.linear_model import LogisticRegression\n",
    "\n",
    "from scipy import spatial\n",
    "\n",
    "from sklearn.neighbors import KNeighborsClassifier"
   ]
  },
  {
   "cell_type": "markdown",
   "metadata": {},
   "source": [
    "<a id=\"segundo\"></a>\n",
    "\n",
    "El aprendizaje supervisado visto en clases da cuenta que existe una única posible etiqueta $z$ (*ground truth*) asociada a un dato $x$ para poder aprender de los datos. Sin embargo, la definición del *ground truth* en algunos casos puede resultar bastante difícil de definir o bastante costoso, por ejemplo en problemas médicos donde se deben realizar invasivos exámenes para conocer la \"verdad absoluta\". Como alternativa se pueden recolectar múltiples anotaciones desde personas inexpertas en el área para poder estimar el *ground truth*. \n",
    "\n",
    "<img src=\"http://www.irishenvironment.com/wp-content/uploads/2013/11/crowdsourcing.jpg\" title=\"Title text\" width=\"40%\" />\n",
    "\n",
    "En esta actividad se trabajará en el caso en que contamos con múltiples anotaciones por cada dato de entrada $x_i$ dadas por personas inexpertas a través de Amazon Mechanical Turk (__[AMT](https://www.mturk.com/)__), es decir, $y^{(1)}, y^{(2)} \\ldots y^{(T_i)}$. El problema de predicción trabajado será el mismo de la actividad anterior, el análisis de sentimiento de un extracto de texto en Rotten Tomatoes. Los datos trabajados [[8]](#refs) pueden ser descargados de la página del autor.\n",
    "```\n",
    "wget http://fprodrigues.com//mturk-datasets.tar.gz\n",
    "```\n",
    "\n",
    "De esta manera trabajaremos con el archivo *mturk_answers.csv* en la carpeta *sentiment polarity* que se puede cargar con pandas. En este archivo se tendrán múltiples filas/registros por cada dato de entrenamiento, cada uno representando la etiqueta que entregó una persona (*worker*) a ese dato, los detalles de columnas son:\n",
    "* *WorkerId*: identificador de la persona que etiquetó/anotó el dato\n",
    "* *Input.id*: identificador del dato a etiquetar/anotar\n",
    "* *Input.original_sentence*: texto original del dato\n",
    "* *Input.stemmed_sent*: texto pre-procesado\n",
    "* *Input.true_sent*: sentimiento real (*ground truth*) del dato\n",
    "* *Answer.sent*:   etiqueta/anotación que entregó la persona\n",
    "\n",
    "```python\n",
    "import pandas as pd\n",
    "df = pd.read_csv(\"./sentiment_polarity/mturk_answers.csv\") \n",
    "```\n",
    "\n",
    "> El objetivo de la actividad será el de obtener un modelo predictor del *ground truth* sin entrenar directamente con esto, sino que utilizar las múltiples anotaciones de las personas\n",
    "\n",
    "### Importante\n",
    "* Deberá crear un conjunto aleatorio de pruebas que solo contenga los textos y el sentimiento *ground truth* (sin repeticiones)\n",
    "* Los valores de *ground truth* están **solo para evaluar**, no puede utilizarlos para entrenar o tomar decisiones en su modelo.\n",
    "* La métrica de evaluación será el *accuracy score*\n",
    "```python\n",
    "from sklearn.metrics import accuracy_score\n",
    "accuracy_score(y_true, y_pred)\n",
    "```\n",
    "\n",
    "#### Sugerencias\n",
    "Para representar los textos, a diferencia de lo visto en la sección 1, se puede utilizar lo que son la representación vectorial de palabras (*word vectors*), a través de modelos especializados entrenados para aprender una representación en que palabras similares estén cercanas en el espacio vectorial. Puede utilizar los vectores livianos de __[GLOVE](https://nlp.stanford.edu/projects/glove/)__ en su versión entradas en textos de Wikipedia con 6 billones de palabras/tokens.\n",
    "```python\n",
    "EMBEDDING_DIM = 300\n",
    "GLOVE_FILE = \"./glove.6B.%dd.txt\"%(EMBEDDING_DIM)\n",
    "embeddings_index = {}\n",
    "with open(GLOVE_FILE) as file:\n",
    "    for line in file:\n",
    "        values = line.split()\n",
    "        embeddings_index[values[0]] = np.asarray(values[1:], dtype='float32')\n",
    "...\n",
    "embeddings_index.get(word)\n",
    "```\n",
    "> Para descargar GLOVE\n",
    "```\n",
    "wget http://nlp.stanford.edu/data/glove.6B.zip\n",
    "```"
   ]
  },
  {
   "cell_type": "markdown",
   "metadata": {},
   "source": [
    "## Desarrollo\n",
    "\n",
    "Para el desarrollo de esta actividad procederemos a realizar un paralelismo a lo solicitado en la sección uno de este informe."
   ]
  },
  {
   "cell_type": "code",
   "execution_count": 4,
   "metadata": {},
   "outputs": [],
   "source": [
    "names = ['Worker', 'idData', 'rawData', 'stemData', 'GTruth', 'Answer']"
   ]
  },
  {
   "cell_type": "markdown",
   "metadata": {},
   "source": [
    "### Datos\n",
    "\n",
    "En primera instancia importaremos los datos, luego los separaremos y haremos algunos resumenes de las informaciones que extraigasemos."
   ]
  },
  {
   "cell_type": "code",
   "execution_count": 6,
   "metadata": {},
   "outputs": [
    {
     "data": {
      "text/html": [
       "<div>\n",
       "<style scoped>\n",
       "    .dataframe tbody tr th:only-of-type {\n",
       "        vertical-align: middle;\n",
       "    }\n",
       "\n",
       "    .dataframe tbody tr th {\n",
       "        vertical-align: top;\n",
       "    }\n",
       "\n",
       "    .dataframe thead th {\n",
       "        text-align: right;\n",
       "    }\n",
       "</style>\n",
       "<table border=\"1\" class=\"dataframe\">\n",
       "  <thead>\n",
       "    <tr style=\"text-align: right;\">\n",
       "      <th></th>\n",
       "      <th>Worker</th>\n",
       "      <th>idData</th>\n",
       "      <th>rawData</th>\n",
       "      <th>stemData</th>\n",
       "      <th>GTruth</th>\n",
       "      <th>Answer</th>\n",
       "    </tr>\n",
       "  </thead>\n",
       "  <tbody>\n",
       "    <tr>\n",
       "      <th>0</th>\n",
       "      <td>A2HD5XMM48KKJW</td>\n",
       "      <td>4518</td>\n",
       "      <td>the cast is phenomenal , especially the women .</td>\n",
       "      <td>cast phenomen especi women</td>\n",
       "      <td>pos</td>\n",
       "      <td>pos</td>\n",
       "    </tr>\n",
       "    <tr>\n",
       "      <th>1</th>\n",
       "      <td>A2HD5XMM48KKJW</td>\n",
       "      <td>10415</td>\n",
       "      <td>the metaphors are provocative , but too often ...</td>\n",
       "      <td>metaphor provoc often viewer left puzzl mechan...</td>\n",
       "      <td>neg</td>\n",
       "      <td>neg</td>\n",
       "    </tr>\n",
       "    <tr>\n",
       "      <th>2</th>\n",
       "      <td>A2HD5XMM48KKJW</td>\n",
       "      <td>7098</td>\n",
       "      <td>while there's something intrinsically funny ab...</td>\n",
       "      <td>there someth intrins funni sir anthoni hopkin ...</td>\n",
       "      <td>neg</td>\n",
       "      <td>pos</td>\n",
       "    </tr>\n",
       "    <tr>\n",
       "      <th>3</th>\n",
       "      <td>A2HD5XMM48KKJW</td>\n",
       "      <td>4396</td>\n",
       "      <td>a harrowing account of a psychological breakdo...</td>\n",
       "      <td>harrow account psycholog breakdown</td>\n",
       "      <td>pos</td>\n",
       "      <td>neg</td>\n",
       "    </tr>\n",
       "    <tr>\n",
       "      <th>4</th>\n",
       "      <td>A2HD5XMM48KKJW</td>\n",
       "      <td>2812</td>\n",
       "      <td>. . . a visually seductive , unrepentantly tr...</td>\n",
       "      <td>visual seduct unrepentantli trashi rice instal...</td>\n",
       "      <td>pos</td>\n",
       "      <td>pos</td>\n",
       "    </tr>\n",
       "  </tbody>\n",
       "</table>\n",
       "</div>"
      ],
      "text/plain": [
       "           Worker  idData                                            rawData  \\\n",
       "0  A2HD5XMM48KKJW    4518   the cast is phenomenal , especially the women .    \n",
       "1  A2HD5XMM48KKJW   10415  the metaphors are provocative , but too often ...   \n",
       "2  A2HD5XMM48KKJW    7098  while there's something intrinsically funny ab...   \n",
       "3  A2HD5XMM48KKJW    4396  a harrowing account of a psychological breakdo...   \n",
       "4  A2HD5XMM48KKJW    2812   . . . a visually seductive , unrepentantly tr...   \n",
       "\n",
       "                                            stemData GTruth Answer  \n",
       "0                         cast phenomen especi women    pos    pos  \n",
       "1  metaphor provoc often viewer left puzzl mechan...    neg    neg  \n",
       "2  there someth intrins funni sir anthoni hopkin ...    neg    pos  \n",
       "3                 harrow account psycholog breakdown    pos    neg  \n",
       "4  visual seduct unrepentantli trashi rice instal...    pos    pos  "
      ]
     },
     "execution_count": 6,
     "metadata": {},
     "output_type": "execute_result"
    }
   ],
   "source": [
    "df = pd.read_csv(\"./mturk-datasets/sentiment_polarity/mturk_answers.csv\", names=names, header=0) \n",
    "df.head()"
   ]
  },
  {
   "cell_type": "markdown",
   "metadata": {},
   "source": [
    "En lo siguiente, separaremos los datos para lograr saber cuantas anotadoras existen, cuantas instancias existen, cual es el promedio de anotadoras por dato y el promedio de datos etiquetados por anotadora. De la misma forma, mostraremos datos respecto a cuantos ejemplos por cada clase existen, longitud de texto y otros."
   ]
  },
  {
   "cell_type": "code",
   "execution_count": 202,
   "metadata": {},
   "outputs": [
    {
     "data": {
      "text/html": [
       "<div>\n",
       "<style scoped>\n",
       "    .dataframe tbody tr th:only-of-type {\n",
       "        vertical-align: middle;\n",
       "    }\n",
       "\n",
       "    .dataframe tbody tr th {\n",
       "        vertical-align: top;\n",
       "    }\n",
       "\n",
       "    .dataframe thead th {\n",
       "        text-align: right;\n",
       "    }\n",
       "</style>\n",
       "<table border=\"1\" class=\"dataframe\">\n",
       "  <thead>\n",
       "    <tr style=\"text-align: right;\">\n",
       "      <th></th>\n",
       "      <th>idData</th>\n",
       "      <th>GTruth</th>\n",
       "      <th>count</th>\n",
       "    </tr>\n",
       "  </thead>\n",
       "  <tbody>\n",
       "    <tr>\n",
       "      <th>0</th>\n",
       "      <td>2</td>\n",
       "      <td>pos</td>\n",
       "      <td>6</td>\n",
       "    </tr>\n",
       "    <tr>\n",
       "      <th>1</th>\n",
       "      <td>3</td>\n",
       "      <td>pos</td>\n",
       "      <td>6</td>\n",
       "    </tr>\n",
       "    <tr>\n",
       "      <th>2</th>\n",
       "      <td>4</td>\n",
       "      <td>pos</td>\n",
       "      <td>5</td>\n",
       "    </tr>\n",
       "    <tr>\n",
       "      <th>3</th>\n",
       "      <td>9</td>\n",
       "      <td>pos</td>\n",
       "      <td>6</td>\n",
       "    </tr>\n",
       "    <tr>\n",
       "      <th>4</th>\n",
       "      <td>11</td>\n",
       "      <td>pos</td>\n",
       "      <td>4</td>\n",
       "    </tr>\n",
       "  </tbody>\n",
       "</table>\n",
       "</div>"
      ],
      "text/plain": [
       "   idData GTruth  count\n",
       "0       2    pos      6\n",
       "1       3    pos      6\n",
       "2       4    pos      5\n",
       "3       9    pos      6\n",
       "4      11    pos      4"
      ]
     },
     "execution_count": 202,
     "metadata": {},
     "output_type": "execute_result"
    }
   ],
   "source": [
    "anotadoras = df.groupby(['Worker']).size().reset_index(name='count')\n",
    "instancias = df.groupby(['idData', 'GTruth']).size().reset_index(name='count')\n",
    "instancias.head()"
   ]
  },
  {
   "cell_type": "code",
   "execution_count": 56,
   "metadata": {},
   "outputs": [
    {
     "name": "stdout",
     "output_type": "stream",
     "text": [
      "Cantidad de anotadoras: 203\n",
      "Cantidad de instancias: 4999\n",
      "Promedio de instancias por anotadora : 136.68\n",
      "Máximo de instancias por anotadora : 3993\n",
      "Mínimo de instancias por anotadora : 5\n",
      "Promedio de anotadoras por instancias : 5.55\n",
      "Máximo de anotadoras por instancias : 10\n",
      "Mínimo de anotadoras por instancias : 4\n"
     ]
    }
   ],
   "source": [
    "print ('Cantidad de anotadoras:', len(anotadoras))\n",
    "print ('Cantidad de instancias:', len(instancias))\n",
    "print ('Promedio de instancias por anotadora :', round(anotadoras['count'].mean(), 2))\n",
    "print ('Máximo de instancias por anotadora :', round(anotadoras['count'].max(), 2))\n",
    "print ('Mínimo de instancias por anotadora :', round(anotadoras['count'].min(), 2))\n",
    "\n",
    "print ('Promedio de anotadoras por instancias :', round(instancias['count'].mean(), 2))\n",
    "print ('Máximo de anotadoras por instancias :', round(instancias['count'].max(), 2))\n",
    "print ('Mínimo de anotadoras por instancias :', round(instancias['count'].min(), 2))"
   ]
  },
  {
   "cell_type": "code",
   "execution_count": 80,
   "metadata": {},
   "outputs": [],
   "source": [
    "textos = df.groupby(['idData', 'rawData','stemData']).size().reset_index(name='count')"
   ]
  },
  {
   "cell_type": "code",
   "execution_count": 90,
   "metadata": {},
   "outputs": [],
   "source": [
    "textos['len(rawData)'] = textos['rawData'].str.split().str.len()\n",
    "textos['len(stemData)'] = textos['stemData'].str.split().str.len()"
   ]
  },
  {
   "cell_type": "code",
   "execution_count": 93,
   "metadata": {},
   "outputs": [
    {
     "name": "stdout",
     "output_type": "stream",
     "text": [
      "Textos originales\n",
      "Promedio de palabras: 20.95\n",
      "Máximo de palabras: 57\n",
      "Mínimo de palabras: 2\n",
      "Textos pre-procesados\n",
      "Promedio de palabras: 10.29\n",
      "Máximo de palabras: 29\n",
      "Mínimo de palabras: 1\n"
     ]
    }
   ],
   "source": [
    "print ('Textos originales')\n",
    "print ('Promedio de palabras:', round(textos['len(rawData)'].mean(), 2))\n",
    "print ('Máximo de palabras:', textos['len(rawData)'].max())\n",
    "print ('Mínimo de palabras:', textos['len(rawData)'].min())\n",
    "print ('Textos pre-procesados')\n",
    "print ('Promedio de palabras:', round(textos['len(stemData)'].mean(), 2))\n",
    "print ('Máximo de palabras:', textos['len(stemData)'].max())\n",
    "print ('Mínimo de palabras:', textos['len(stemData)'].min())"
   ]
  },
  {
   "cell_type": "code",
   "execution_count": 305,
   "metadata": {},
   "outputs": [
    {
     "data": {
      "text/plain": [
       "<matplotlib.axes._subplots.AxesSubplot at 0x1db2555e4a8>"
      ]
     },
     "execution_count": 305,
     "metadata": {},
     "output_type": "execute_result"
    },
    {
     "data": {
      "image/png": "[encoded data removed]",
      "text/plain": [
       "<Figure size 432x288 with 1 Axes>"
      ]
     },
     "metadata": {
      "needs_background": "light"
     },
     "output_type": "display_data"
    }
   ],
   "source": [
    "sns.countplot('GTruth',data = instancias)"
   ]
  },
  {
   "cell_type": "markdown",
   "metadata": {},
   "source": [
    "### Inferencia del ground truth\n",
    "\n",
    "Para esta subsección realizaremos la actividad principal del enunciado donde se pide realizar el entrenamiento mediante el uso exclusivo de las respuestas entregadas por las anotadoras sin utilizar el ground truth real, pudiendo solo utilizar este último para realizar una evaluación comparativa con la realidad.\n",
    "\n",
    "Concretamente nosotros postulamos dos métodos, el clásico y siempre confiable igualitarismo sobre las anotadoras, donde podemos confiar en ellas por igual independiente de cualquier variable. Llamaremos a esto *majority voting*, mientras que como segunda opción, le daremos un nivel de confianza (*worker quality*) a las anotadoras, en base a su rendimiento grupal.\n",
    "\n",
    "\n",
    "Para la codificación, utilizaremos **1** para positivos y **-1** para negativos."
   ]
  },
  {
   "cell_type": "code",
   "execution_count": 207,
   "metadata": {},
   "outputs": [
    {
     "data": {
      "text/html": [
       "<div>\n",
       "<style scoped>\n",
       "    .dataframe tbody tr th:only-of-type {\n",
       "        vertical-align: middle;\n",
       "    }\n",
       "\n",
       "    .dataframe tbody tr th {\n",
       "        vertical-align: top;\n",
       "    }\n",
       "\n",
       "    .dataframe thead th {\n",
       "        text-align: right;\n",
       "    }\n",
       "</style>\n",
       "<table border=\"1\" class=\"dataframe\">\n",
       "  <thead>\n",
       "    <tr style=\"text-align: right;\">\n",
       "      <th></th>\n",
       "      <th>GTruth</th>\n",
       "    </tr>\n",
       "    <tr>\n",
       "      <th>idData</th>\n",
       "      <th></th>\n",
       "    </tr>\n",
       "  </thead>\n",
       "  <tbody>\n",
       "    <tr>\n",
       "      <th>2</th>\n",
       "      <td>1</td>\n",
       "    </tr>\n",
       "    <tr>\n",
       "      <th>3</th>\n",
       "      <td>1</td>\n",
       "    </tr>\n",
       "    <tr>\n",
       "      <th>4</th>\n",
       "      <td>1</td>\n",
       "    </tr>\n",
       "    <tr>\n",
       "      <th>9</th>\n",
       "      <td>1</td>\n",
       "    </tr>\n",
       "    <tr>\n",
       "      <th>11</th>\n",
       "      <td>1</td>\n",
       "    </tr>\n",
       "  </tbody>\n",
       "</table>\n",
       "</div>"
      ],
      "text/plain": [
       "       GTruth\n",
       "idData       \n",
       "2           1\n",
       "3           1\n",
       "4           1\n",
       "9           1\n",
       "11          1"
      ]
     },
     "execution_count": 207,
     "metadata": {},
     "output_type": "execute_result"
    }
   ],
   "source": [
    "# Codificando el ground truth\n",
    "groundtruth = instancias[['GTruth']].where(instancias['GTruth'] == 'pos', -1).where(instancias['GTruth'] == 'neg', 1)\n",
    "groundtruth['idData'] = instancias[['idData']]\n",
    "groundtruth = groundtruth.set_index('idData')\n",
    "groundtruth.head()"
   ]
  },
  {
   "cell_type": "markdown",
   "metadata": {},
   "source": [
    "#### Majority Voting\n",
    "\n",
    "Para este método contaremos con todas las respuestas de las anotadoras y presentaremos los resultados con mayor ocurrencia por instancia, donde aquellos que se encuentren empatados serán resueltos mediante una elección aleatorea."
   ]
  },
  {
   "cell_type": "code",
   "execution_count": 198,
   "metadata": {},
   "outputs": [],
   "source": [
    "def majority_voting(df):\n",
    "    # Reduciendo Dataframe\n",
    "    respuestas = df.groupby(['idData', 'Worker','Answer']).size().reset_index(name='count')\n",
    "    # Codificando respuestas\n",
    "    respuestas['CodAnswer'] = respuestas[['Answer']].where(respuestas['Answer'] == 'pos', -1).where(respuestas['Answer'] == 'neg', 1)\n",
    "    # Agregando respuestas\n",
    "    MV = respuestas.groupby(by='idData').agg({'CodAnswer':'sum'})\n",
    "    # Resolucion de empates y obtención de resultados\n",
    "    MV = MV.mask(MV['CodAnswer'] > 0, 1).mask(MV['CodAnswer'] < 0, -1).mask(MV['CodAnswer'] == 0, np.random.choice([-1,1]))\n",
    "    return MV"
   ]
  },
  {
   "cell_type": "code",
   "execution_count": 199,
   "metadata": {},
   "outputs": [
    {
     "data": {
      "text/html": [
       "<div>\n",
       "<style scoped>\n",
       "    .dataframe tbody tr th:only-of-type {\n",
       "        vertical-align: middle;\n",
       "    }\n",
       "\n",
       "    .dataframe tbody tr th {\n",
       "        vertical-align: top;\n",
       "    }\n",
       "\n",
       "    .dataframe thead th {\n",
       "        text-align: right;\n",
       "    }\n",
       "</style>\n",
       "<table border=\"1\" class=\"dataframe\">\n",
       "  <thead>\n",
       "    <tr style=\"text-align: right;\">\n",
       "      <th></th>\n",
       "      <th>CodAnswer</th>\n",
       "    </tr>\n",
       "    <tr>\n",
       "      <th>idData</th>\n",
       "      <th></th>\n",
       "    </tr>\n",
       "  </thead>\n",
       "  <tbody>\n",
       "    <tr>\n",
       "      <th>2</th>\n",
       "      <td>1</td>\n",
       "    </tr>\n",
       "    <tr>\n",
       "      <th>3</th>\n",
       "      <td>-1</td>\n",
       "    </tr>\n",
       "    <tr>\n",
       "      <th>4</th>\n",
       "      <td>1</td>\n",
       "    </tr>\n",
       "    <tr>\n",
       "      <th>9</th>\n",
       "      <td>1</td>\n",
       "    </tr>\n",
       "    <tr>\n",
       "      <th>11</th>\n",
       "      <td>1</td>\n",
       "    </tr>\n",
       "  </tbody>\n",
       "</table>\n",
       "</div>"
      ],
      "text/plain": [
       "        CodAnswer\n",
       "idData           \n",
       "2               1\n",
       "3              -1\n",
       "4               1\n",
       "9               1\n",
       "11              1"
      ]
     },
     "execution_count": 199,
     "metadata": {},
     "output_type": "execute_result"
    }
   ],
   "source": [
    "MV = majority_voting(df)\n",
    "MV.head()"
   ]
  },
  {
   "cell_type": "markdown",
   "metadata": {},
   "source": [
    "#### Worker Quality \n",
    "\n",
    "Para este método utilizaremos un proceso iterativo hasta convergencia o bien, hasta algún criterio de parada. Lo que buscaremos será obtener un ground truth inicial y luego en base a ese mismo ground truth otorgarles a las anotadoras un valor de calidad relativo a su desempeño con respecto al resto. \n",
    "\n",
    "Para realizar esta tarea definiremos dos funciones, una que infiere el ground truth a través de la calidad, donde $W$ serán los *Workers* (anotadoras) de manera tal que para cada instancia exista un subconjunto $W_i$ con las anotadoras que hayan participado en la etiquetación de la instancia.\n",
    "\n",
    "\\begin{align}\n",
    "    GT_{i} = sign(\\sum_{w \\in W_{i}} q_w A_{wi}) & \\forall i\n",
    "\\end{align}\n",
    "\n",
    "La segunda función será la de inferencia de calidad donde esta misma, esta dado por el *accuracy* (exactitud) de la anotadora en base al ground truth inferido. De forma que si un observador etiqueto 4 instancias y se equivocó en 1 su calidad se reduce a 0.75, considerando que $q \\in \\left[ 0,1\\right]$. Todas las anotadoras parten con la misma calidad inicialmente.\n",
    "\n",
    "Este método suena mucho más razonable y pertinente debido a que no poseemos mayor información de las anotadoras y sabemos que no todas las instancias han sido etiquetadas por la misma cantidad de *Workers*."
   ]
  },
  {
   "cell_type": "code",
   "execution_count": 208,
   "metadata": {},
   "outputs": [],
   "source": [
    "def quality_inference(df, gt):\n",
    "    quality = dict()\n",
    "    for row in df.values:\n",
    "        idx, worker, _, _, answer = tuple(row)\n",
    "        increment = np.array([1,0]) if gt.loc[idx][0] == answer else np.array([0,1])\n",
    "        quality[worker] = quality.get(worker, np.array([0,0])) + increment\n",
    "    for k,v in quality.items():\n",
    "        quality[k] = v[0] / np.sum(v)\n",
    "    return quality"
   ]
  },
  {
   "cell_type": "code",
   "execution_count": 197,
   "metadata": {},
   "outputs": [],
   "source": [
    "def truth_inference(df, ql):\n",
    "    inst = list()\n",
    "    gt = list()\n",
    "    aux = dict()\n",
    "    for row in df.values:\n",
    "        idx, worker, _, _, answer = tuple(row)\n",
    "        aux[idx] = aux.get(idx, 0) + answer * ql[worker]\n",
    "    for k,v in aux.items():\n",
    "        inst.append(k)\n",
    "        gt.append(v)\n",
    "    outdf = pd.DataFrame({'idData': inst, 'CodAnswer': gt}).set_index('idData')\n",
    "    outdf = outdf.mask(outdf['CodAnswer'] > 0, 1).mask(outdf['CodAnswer'] < 0, -1).mask(outdf['CodAnswer'] == 0, np.random.choice([-1,1]))\n",
    "    return outdf"
   ]
  },
  {
   "cell_type": "markdown",
   "metadata": {},
   "source": [
    "Debido a que partiremos de la premisa que todas las anotadoras cuentan con un mismo valor de calidad, utilizaremos el método **MV** para dar inicio a nuestro *loop*. Crearemos un parametro $C$ que cumplirá la función de criterio de parada para una cantidad de iteraciones. Al mismo tiempo, tenemos otro criterio de parada y es cuando durante 3 iteraciones seguidas, se encuentra un mismo valor para **truth_inference**, también procederemos a terminar las iteraciones."
   ]
  },
  {
   "cell_type": "code",
   "execution_count": 298,
   "metadata": {},
   "outputs": [],
   "source": [
    "def worker_quality(df, C=100):\n",
    "    # Reduciendo Dataframe\n",
    "    respuestas = df.groupby(['idData', 'Worker','Answer']).size().reset_index(name='count')\n",
    "    # Codificando respuestas\n",
    "    respuestas['CodAnswer'] = respuestas[['Answer']].where(respuestas['Answer'] == 'pos', -1).where(respuestas['Answer'] == 'neg', 1)\n",
    "    # Inicializacion\n",
    "    groundtruth = majority_voting(df)\n",
    "    # Looping \n",
    "    stop = groundtruth[['CodAnswer']]\n",
    "    convergence = 0\n",
    "    for i in range(C):\n",
    "        # Se obtiene la calidad inferida\n",
    "        quality = quality_inference(respuestas, groundtruth)\n",
    "        # Se obtiene el sentimiento inferido\n",
    "        groundtruth = truth_inference(respuestas, quality)\n",
    "        if (np.sum(stop['CodAnswer'] == groundtruth['CodAnswer']) == len(stop)):\n",
    "            convergence += 1\n",
    "        else:\n",
    "            convergence = 0\n",
    "        if (convergence == 3):\n",
    "            break\n",
    "        stop = groundtruth[['CodAnswer']]\n",
    "    return groundtruth"
   ]
  },
  {
   "cell_type": "code",
   "execution_count": 300,
   "metadata": {},
   "outputs": [
    {
     "data": {
      "text/html": [
       "<div>\n",
       "<style scoped>\n",
       "    .dataframe tbody tr th:only-of-type {\n",
       "        vertical-align: middle;\n",
       "    }\n",
       "\n",
       "    .dataframe tbody tr th {\n",
       "        vertical-align: top;\n",
       "    }\n",
       "\n",
       "    .dataframe thead th {\n",
       "        text-align: right;\n",
       "    }\n",
       "</style>\n",
       "<table border=\"1\" class=\"dataframe\">\n",
       "  <thead>\n",
       "    <tr style=\"text-align: right;\">\n",
       "      <th></th>\n",
       "      <th>CodAnswer</th>\n",
       "    </tr>\n",
       "    <tr>\n",
       "      <th>idData</th>\n",
       "      <th></th>\n",
       "    </tr>\n",
       "  </thead>\n",
       "  <tbody>\n",
       "    <tr>\n",
       "      <th>2</th>\n",
       "      <td>1.0</td>\n",
       "    </tr>\n",
       "    <tr>\n",
       "      <th>3</th>\n",
       "      <td>-1.0</td>\n",
       "    </tr>\n",
       "    <tr>\n",
       "      <th>4</th>\n",
       "      <td>1.0</td>\n",
       "    </tr>\n",
       "    <tr>\n",
       "      <th>9</th>\n",
       "      <td>1.0</td>\n",
       "    </tr>\n",
       "    <tr>\n",
       "      <th>11</th>\n",
       "      <td>1.0</td>\n",
       "    </tr>\n",
       "  </tbody>\n",
       "</table>\n",
       "</div>"
      ],
      "text/plain": [
       "        CodAnswer\n",
       "idData           \n",
       "2             1.0\n",
       "3            -1.0\n",
       "4             1.0\n",
       "9             1.0\n",
       "11            1.0"
      ]
     },
     "execution_count": 300,
     "metadata": {},
     "output_type": "execute_result"
    }
   ],
   "source": [
    "WQ = worker_quality(df, 1000)\n",
    "WQ.head()"
   ]
  },
  {
   "cell_type": "code",
   "execution_count": 449,
   "metadata": {},
   "outputs": [
    {
     "name": "stdout",
     "output_type": "stream",
     "text": [
      "Diferencia entre MV y WQ: 85\n",
      "Diferencia entre MV y GT: 552\n",
      "Diferencia entre WQ y GT: 527\n"
     ]
    }
   ],
   "source": [
    "print ('Diferencia entre MV y WQ:', len(MV) - np.sum(WQ['CodAnswer'] == MV['CodAnswer']))\n",
    "print ('Diferencia entre MV y GT:', len(MV) - np.sum(groundtruth['GTruth'] == MV['CodAnswer']))\n",
    "print ('Diferencia entre WQ y GT:', len(groundtruth) - np.sum(groundtruth['GTruth'] == WQ['CodAnswer']))"
   ]
  },
  {
   "cell_type": "markdown",
   "metadata": {},
   "source": [
    "Dentro del mismo tema, podemos pensar en propuestas para una continuación de esto, que puede ser, la detección de anotadoras maliciosas, una calidad sobre la clase particular (*más pensado para problemas multiclase*).\n",
    "\n",
    "### Conjunto de testing y validación\n",
    "\n",
    "En esta subsección, separaremos nuestros datos en 2 conjuntos, obteniendo así, un conjunto de entrenamiento y uno de testing, utilizaremos una proporción $80\\%$ *training* y $20\\%$ *testing* principalmente por la cantidad de datos que tenemos. Para poder realizar este proceso de forma rápida, en vez de utilizar las correspondientes etiquetas, utilizaremos el valor del identificador del dato, de forma tal que luego, podamos utilizar ese mismo dato para las distintas pruebas que realizaremos."
   ]
  },
  {
   "cell_type": "code",
   "execution_count": 350,
   "metadata": {},
   "outputs": [],
   "source": [
    "df_texts_raw = textos.rawData\n",
    "df_texts_stem = textos.stemData\n",
    "df_labels = textos.idData.values\n",
    "\n",
    "df_train_textr, df_test_textr, labels_train_id, labels_test_id = train_test_split(df_texts_raw, df_labels, test_size=0.2, random_state=0)\n",
    "df_train_texts, df_test_texts, labels_train_id, labels_test_id = train_test_split(df_texts_stem, df_labels, test_size=0.2, random_state=0)"
   ]
  },
  {
   "cell_type": "code",
   "execution_count": 346,
   "metadata": {},
   "outputs": [
    {
     "data": {
      "text/plain": [
       "2615    here's my advice , kev . start reading your sc...\n",
       "1116             very well-written and very well-acted . \n",
       "4519    the movie resolutely avoids all the comic poss...\n",
       "1478    because eight legged freaks is partly an homag...\n",
       "156     hu and liu offer natural , matter-of-fact perf...\n",
       "Name: rawData, dtype: object"
      ]
     },
     "execution_count": 346,
     "metadata": {},
     "output_type": "execute_result"
    }
   ],
   "source": [
    "df_train_textr.head()"
   ]
  },
  {
   "cell_type": "code",
   "execution_count": 347,
   "metadata": {},
   "outputs": [
    {
     "data": {
      "text/plain": [
       "2615       here advic kev start read script sign dot line\n",
       "1116                                          written act\n",
       "4519    movi resolut avoid comic possibl situat becom ...\n",
       "1478    eight leg freak partli homag tarantula low bud...\n",
       "156     hu liu offer natur matter fact perform glint s...\n",
       "Name: stemData, dtype: object"
      ]
     },
     "execution_count": 347,
     "metadata": {},
     "output_type": "execute_result"
    }
   ],
   "source": [
    "df_train_texts.head()"
   ]
  },
  {
   "cell_type": "code",
   "execution_count": 348,
   "metadata": {},
   "outputs": [
    {
     "name": "stdout",
     "output_type": "stream",
     "text": [
      "(3999,)\n",
      "(1000,)\n"
     ]
    }
   ],
   "source": [
    "print (df_train_text.shape)\n",
    "print (df_test_text.shape)"
   ]
  },
  {
   "cell_type": "markdown",
   "metadata": {},
   "source": [
    "Ahora realizaremos el mismo proceso pero para obtener un conjunto de validación."
   ]
  },
  {
   "cell_type": "code",
   "execution_count": 351,
   "metadata": {},
   "outputs": [],
   "source": [
    "df_train_textr, df_val_textr, labels_train_ids, labels_val_ids = train_test_split(df_train_textr, labels_train_id, test_size=0.2, random_state=0)\n",
    "df_train_texts, df_val_texts, labels_train_ids, labels_val_ids = train_test_split(df_train_texts, labels_train_id, test_size=0.2, random_state=0)"
   ]
  },
  {
   "cell_type": "code",
   "execution_count": 340,
   "metadata": {},
   "outputs": [],
   "source": [
    "def get_labels(labels_ids, labels_values):\n",
    "    return np.array([labels_values.loc[idx][0] for idx in labels_ids])"
   ]
  },
  {
   "cell_type": "code",
   "execution_count": 354,
   "metadata": {},
   "outputs": [],
   "source": [
    "Glabels_test_id = get_labels(labels_test_id, groundtruth)\n",
    "Mlabels_train_id = get_labels(labels_train_ids, MV)\n",
    "Wlabels_train_id = get_labels(labels_train_ids, WQ)\n",
    "Mlabels_val_id = get_labels(labels_val_ids, MV)\n",
    "Wlabels_val_id = get_labels(labels_val_ids, WQ)"
   ]
  },
  {
   "cell_type": "code",
   "execution_count": 355,
   "metadata": {},
   "outputs": [
    {
     "name": "stdout",
     "output_type": "stream",
     "text": [
      "(1000,)\n",
      "(3199,)\n",
      "(3199,)\n",
      "(800,)\n",
      "(800,)\n"
     ]
    }
   ],
   "source": [
    "print (Glabels_test_id.shape)\n",
    "print (Mlabels_train_id.shape)\n",
    "print (Wlabels_train_id.shape)\n",
    "print (Mlabels_val_id.shape)\n",
    "print (Wlabels_val_id.shape)"
   ]
  },
  {
   "cell_type": "markdown",
   "metadata": {},
   "source": [
    "### Vectores de palabras\n",
    "\n",
    "En base a la sugerencia del enunciado, utilizaremos **GloVe**."
   ]
  },
  {
   "cell_type": "code",
   "execution_count": 240,
   "metadata": {
    "scrolled": true
   },
   "outputs": [],
   "source": [
    "EMBEDDING_DIM = 300\n",
    "GLOVE_FILE = \"./glove/glove.6B.%dd.txt\"%(EMBEDDING_DIM)\n",
    "embeddings_index = {}\n",
    "with open(GLOVE_FILE, encoding='utf8') as file:\n",
    "    for line in file:\n",
    "        values = line.split()\n",
    "        embeddings_index[values[0]] = np.asarray(values[1:], dtype='float32')"
   ]
  },
  {
   "cell_type": "markdown",
   "metadata": {},
   "source": [
    "Aquí adelante, presentamos un breve código donde al variar la cantidad de palabras visualizadas, podremos notar como se reparten las palabras en el espacio."
   ]
  },
  {
   "cell_type": "code",
   "execution_count": 266,
   "metadata": {},
   "outputs": [],
   "source": [
    "tsne = TSNE(n_components=2, random_state=0)\n",
    "words = list(embeddings_index.keys())\n",
    "vectors = [embeddings_index[word] for word in words]"
   ]
  },
  {
   "cell_type": "code",
   "execution_count": 279,
   "metadata": {},
   "outputs": [],
   "source": [
    "Y = tsne.fit_transform(vectors[:100])"
   ]
  },
  {
   "cell_type": "code",
   "execution_count": 280,
   "metadata": {},
   "outputs": [
    {
     "data": {
      "image/png": "[encoded data removed]",
      "text/plain": [
       "<Figure size 432x288 with 1 Axes>"
      ]
     },
     "metadata": {
      "needs_background": "light"
     },
     "output_type": "display_data"
    }
   ],
   "source": [
    "plt.scatter(Y[:, 0], Y[:, 1])\n",
    "for label, x, y in zip(words, Y[:, 0], Y[:, 1]):\n",
    "    plt.annotate(label, xy=(x, y), xytext=(0, 0), textcoords=\"offset points\")"
   ]
  },
  {
   "cell_type": "markdown",
   "metadata": {},
   "source": [
    "Estamos al tanto de que existen varios métodos para utilizar esta representación, sin embargo en honor al tiempo, eligiremos utilizar el promedio de las representaciones de las palabras dentro de una frase de manera que si $g_w$ es el vector representado por *glove* para la palabra $w$, entonces nuestra frase $f$ será representada por:\n",
    "\n",
    "\\begin{align}\n",
    "\\frac{\\sum_{w \\in f} g_w}{\\sum_{w \\in f} 1}\n",
    "\\end{align}"
   ]
  },
  {
   "cell_type": "code",
   "execution_count": 410,
   "metadata": {},
   "outputs": [],
   "source": [
    "def TextToVector(text, representation):\n",
    "    words = text.split()\n",
    "    wv = np.zeros(EMBEDDING_DIM)\n",
    "    for word in words:\n",
    "        wv += representation.get(word, 0)\n",
    "    return wv / len(words)"
   ]
  },
  {
   "cell_type": "markdown",
   "metadata": {},
   "source": [
    "**A tomar en consideración, que como estamos utilizando los textos pre-procesados, existirán algunas palabras que no serán añadidas a esta represetación, como también las palabras que se encuentren mal escritan, por más que puedan ser muy relevantes, estas no afectarán al modelo que hemos planteado.**"
   ]
  },
  {
   "cell_type": "code",
   "execution_count": 250,
   "metadata": {},
   "outputs": [
    {
     "data": {
      "text/plain": [
       "'gorgeous elabor continu lord ring trilogi huge column word adequ describ co writer director peter jackson expand vision j r r tolkien middl earth'"
      ]
     },
     "execution_count": 250,
     "metadata": {},
     "output_type": "execute_result"
    }
   ],
   "source": [
    "# Ejemplo de lo anterior\n",
    "df_train_text[0]"
   ]
  },
  {
   "cell_type": "code",
   "execution_count": 253,
   "metadata": {},
   "outputs": [
    {
     "ename": "KeyError",
     "evalue": "'trilogi'",
     "output_type": "error",
     "traceback": [
      "\u001b[1;31m---------------------------------------------------------------------------\u001b[0m",
      "\u001b[1;31mKeyError\u001b[0m                                  Traceback (most recent call last)",
      "\u001b[1;32m<ipython-input-253-42f805601088>\u001b[0m in \u001b[0;36m<module>\u001b[1;34m\u001b[0m\n\u001b[1;32m----> 1\u001b[1;33m \u001b[0membeddings_index\u001b[0m\u001b[1;33m[\u001b[0m\u001b[1;34m'trilogi'\u001b[0m\u001b[1;33m]\u001b[0m\u001b[1;33m\u001b[0m\u001b[1;33m\u001b[0m\u001b[0m\n\u001b[0m",
      "\u001b[1;31mKeyError\u001b[0m: 'trilogi'"
     ]
    }
   ],
   "source": [
    "embeddings_index['trilogi']"
   ]
  },
  {
   "cell_type": "markdown",
   "metadata": {},
   "source": [
    "Por esta razón, para subsanar estos casos, se suma $0$ si la palabra no es encontraba en la representación.\n",
    "\n",
    "Ahora que tenemos nuestra función para representar lo que sería **AWE** (*average word embedding*) transformaremos nuestros datos y crearemos un dataframe simil al original pero codificado."
   ]
  },
  {
   "cell_type": "code",
   "execution_count": 411,
   "metadata": {},
   "outputs": [],
   "source": [
    "def GloVe(Series):\n",
    "    aux = list()\n",
    "    for sentence in Series.values:\n",
    "        aux.append(TextToVector(sentence, embeddings_index))\n",
    "    return pd.Series(aux)"
   ]
  },
  {
   "cell_type": "code",
   "execution_count": 412,
   "metadata": {},
   "outputs": [],
   "source": [
    "train_glove_raw = GloVe(df_train_textr)\n",
    "train_glove_stem = GloVe(df_train_texts)\n",
    "\n",
    "val_glove_raw = GloVe(df_val_textr)\n",
    "val_glove_stem = GloVe(df_val_texts)\n",
    "\n",
    "test_glove_raw = GloVe(df_test_textr)\n",
    "test_glove_stem = GloVe(df_test_texts)"
   ]
  },
  {
   "cell_type": "code",
   "execution_count": 413,
   "metadata": {},
   "outputs": [],
   "source": [
    "train_glove_raw = np.array(train_glove_raw.to_list())\n",
    "train_glove_stem = np.array(train_glove_stem.to_list())\n",
    "\n",
    "val_glove_raw = np.array(val_glove_raw.to_list())\n",
    "val_glove_stem = np.array(val_glove_stem.to_list())\n",
    "\n",
    "test_glove_raw = np.array(test_glove_raw.to_list())\n",
    "test_glove_stem = np.array(test_glove_stem.to_list())"
   ]
  },
  {
   "cell_type": "markdown",
   "metadata": {},
   "source": [
    "### Prueba de modelos\n",
    "\n",
    "En primera instancia utilizaremos una regresion lineal como se realiza en la primera sección de este informe, también probaremos el algoritmo de similaridad *KNN*. En honor al tiempo se deja planteada la opción de utilizar estructuras más complejas, como modelos de estructuras jerarquicas con atención para mayor comprensión de texto. Sin embargo, como estas estructuras mencionadas se basan en modelos con *GRU* en distintos niveles (*caracteres, palabras, sentencias y/o documentos*) tienen tiempos de entrenamiento relativamente altos por epoca **~45m** por época, al mismo tiempo, la cantidad de datos puede no ser lo suficientemente relevante como para proporcionar la suficiente información."
   ]
  },
  {
   "cell_type": "code",
   "execution_count": 372,
   "metadata": {},
   "outputs": [
    {
     "data": {
      "text/plain": [
       "LogisticRegression(C=0.001, class_weight=None, dual=False, fit_intercept=True,\n",
       "                   intercept_scaling=1, l1_ratio=None, max_iter=100,\n",
       "                   multi_class='warn', n_jobs=None, penalty='l2',\n",
       "                   random_state=None, solver='lbfgs', tol=0.0001, verbose=0,\n",
       "                   warm_start=False)"
      ]
     },
     "execution_count": 372,
     "metadata": {},
     "output_type": "execute_result"
    }
   ],
   "source": [
    "# Regresion: rawData - Majority Voting [RRM]\n",
    "regresion1 = LogisticRegression(solver='lbfgs')\n",
    "regresion1.set_params(C=10**-3)\n",
    "regresion1.fit(train_glove_raw, Mlabels_train_id)"
   ]
  },
  {
   "cell_type": "code",
   "execution_count": 374,
   "metadata": {},
   "outputs": [
    {
     "name": "stdout",
     "output_type": "stream",
     "text": [
      "Accuracy Regresion RRM entrenamiento: 0.6214442013129103\n",
      "Accuracy Regresion RRM validacion: 0.6125\n"
     ]
    }
   ],
   "source": [
    "RRM_train_acc = regresion1.score(train_glove_raw, Mlabels_train_id)\n",
    "RRM_valid_acc = regresion1.score(val_glove_raw, Mlabels_val_id)\n",
    "print ('Accuracy Regresion RRM entrenamiento:', RRM_train_acc)\n",
    "print ('Accuracy Regresion RRM validacion:', RRM_valid_acc)"
   ]
  },
  {
   "cell_type": "code",
   "execution_count": 375,
   "metadata": {},
   "outputs": [
    {
     "data": {
      "text/plain": [
       "LogisticRegression(C=0.001, class_weight=None, dual=False, fit_intercept=True,\n",
       "                   intercept_scaling=1, l1_ratio=None, max_iter=100,\n",
       "                   multi_class='warn', n_jobs=None, penalty='l2',\n",
       "                   random_state=None, solver='lbfgs', tol=0.0001, verbose=0,\n",
       "                   warm_start=False)"
      ]
     },
     "execution_count": 375,
     "metadata": {},
     "output_type": "execute_result"
    }
   ],
   "source": [
    "# Regresion: rawData - Worker Quality [RRW]\n",
    "regresion2 = LogisticRegression(solver='lbfgs')\n",
    "regresion2.set_params(C=10**-3)\n",
    "regresion2.fit(train_glove_raw, Wlabels_train_id)"
   ]
  },
  {
   "cell_type": "code",
   "execution_count": 376,
   "metadata": {},
   "outputs": [
    {
     "name": "stdout",
     "output_type": "stream",
     "text": [
      "Accuracy Regresion RRW entrenamiento: 0.5342294467020944\n",
      "Accuracy Regresion RRW validacion: 0.5175\n"
     ]
    }
   ],
   "source": [
    "RRW_train_acc = regresion2.score(train_glove_raw, Wlabels_train_id)\n",
    "RRW_valid_acc = regresion2.score(val_glove_raw, Wlabels_val_id)\n",
    "print ('Accuracy Regresion RRW entrenamiento:', RRW_train_acc)\n",
    "print ('Accuracy Regresion RRW validacion:', RRW_valid_acc)"
   ]
  },
  {
   "cell_type": "code",
   "execution_count": 414,
   "metadata": {},
   "outputs": [
    {
     "data": {
      "text/plain": [
       "LogisticRegression(C=0.001, class_weight=None, dual=False, fit_intercept=True,\n",
       "                   intercept_scaling=1, l1_ratio=None, max_iter=100,\n",
       "                   multi_class='warn', n_jobs=None, penalty='l2',\n",
       "                   random_state=None, solver='lbfgs', tol=0.0001, verbose=0,\n",
       "                   warm_start=False)"
      ]
     },
     "execution_count": 414,
     "metadata": {},
     "output_type": "execute_result"
    }
   ],
   "source": [
    "# Regresion: stemData - Majority Voting [RSM]\n",
    "regresion3 = LogisticRegression(solver='lbfgs')\n",
    "regresion3.set_params(C=10**-3)\n",
    "regresion3.fit(train_glove_stem, Mlabels_train_id)"
   ]
  },
  {
   "cell_type": "code",
   "execution_count": 418,
   "metadata": {},
   "outputs": [
    {
     "name": "stdout",
     "output_type": "stream",
     "text": [
      "Accuracy Regresion RSM entrenamiento: 0.6273835573616755\n",
      "Accuracy Regresion RSM validacion: 0.5925\n"
     ]
    }
   ],
   "source": [
    "RSM_train_acc = regresion3.score(train_glove_stem, Mlabels_train_id)\n",
    "RSM_valid_acc = regresion3.score(val_glove_stem, Mlabels_val_id)\n",
    "print ('Accuracy Regresion RSM entrenamiento:', RSM_train_acc)\n",
    "print ('Accuracy Regresion RSM validacion:', RSM_valid_acc)"
   ]
  },
  {
   "cell_type": "code",
   "execution_count": 417,
   "metadata": {},
   "outputs": [
    {
     "data": {
      "text/plain": [
       "LogisticRegression(C=0.001, class_weight=None, dual=False, fit_intercept=True,\n",
       "                   intercept_scaling=1, l1_ratio=None, max_iter=100,\n",
       "                   multi_class='warn', n_jobs=None, penalty='l2',\n",
       "                   random_state=None, solver='lbfgs', tol=0.0001, verbose=0,\n",
       "                   warm_start=False)"
      ]
     },
     "execution_count": 417,
     "metadata": {},
     "output_type": "execute_result"
    }
   ],
   "source": [
    "# Regresion: stemData - Worker Quality [RSW]\n",
    "regresion4 = LogisticRegression(solver='lbfgs')\n",
    "regresion4.set_params(C=10**-3)\n",
    "regresion4.fit(train_glove_stem, Wlabels_train_id)"
   ]
  },
  {
   "cell_type": "code",
   "execution_count": 419,
   "metadata": {},
   "outputs": [
    {
     "name": "stdout",
     "output_type": "stream",
     "text": [
      "Accuracy Regresion RSW entrenamiento: 0.5473585495467334\n",
      "Accuracy Regresion RSW validacion: 0.5275\n"
     ]
    }
   ],
   "source": [
    "RSW_train_acc = regresion4.score(train_glove_stem, Wlabels_train_id)\n",
    "RSW_valid_acc = regresion4.score(val_glove_stem, Wlabels_val_id)\n",
    "print ('Accuracy Regresion RSW entrenamiento:', RSW_train_acc)\n",
    "print ('Accuracy Regresion RSW validacion:', RSW_valid_acc)"
   ]
  },
  {
   "cell_type": "code",
   "execution_count": 441,
   "metadata": {},
   "outputs": [
    {
     "data": {
      "text/plain": [
       "KNeighborsClassifier(algorithm='auto', leaf_size=30, metric='minkowski',\n",
       "                     metric_params=None, n_jobs=None, n_neighbors=196, p=2,\n",
       "                     weights='uniform')"
      ]
     },
     "execution_count": 441,
     "metadata": {},
     "output_type": "execute_result"
    }
   ],
   "source": [
    "# KNeighbors: rawData - Majority Voting [KRM]\n",
    "KNN1 = KNeighborsClassifier()\n",
    "KNN1.set_params(n_neighbors=196)\n",
    "KNN1.fit(train_glove_raw, Mlabels_train_id)"
   ]
  },
  {
   "cell_type": "code",
   "execution_count": 450,
   "metadata": {},
   "outputs": [
    {
     "name": "stdout",
     "output_type": "stream",
     "text": [
      "Accuracy KNN KRM entrenamiento: 0.7120975304782745\n",
      "Accuracy KNN KRM validacion: 0.71\n"
     ]
    }
   ],
   "source": [
    "KRM_train_acc = KNN1.score(train_glove_raw, Mlabels_train_id)\n",
    "KRM_valid_acc = KNN1.score(val_glove_raw, Mlabels_val_id)\n",
    "print ('Accuracy KNN KRM entrenamiento:', KRM_train_acc)\n",
    "print ('Accuracy KNN KRM validacion:', KRM_valid_acc)"
   ]
  },
  {
   "cell_type": "code",
   "execution_count": 443,
   "metadata": {},
   "outputs": [
    {
     "data": {
      "text/plain": [
       "KNeighborsClassifier(algorithm='auto', leaf_size=30, metric='minkowski',\n",
       "                     metric_params=None, n_jobs=None, n_neighbors=196, p=2,\n",
       "                     weights='uniform')"
      ]
     },
     "execution_count": 443,
     "metadata": {},
     "output_type": "execute_result"
    }
   ],
   "source": [
    "# KNeighbors: rawData - Worker Quality [KRW]\n",
    "KNN2 = KNeighborsClassifier()\n",
    "KNN2.set_params(n_neighbors=196)\n",
    "KNN2.fit(train_glove_raw, Mlabels_train_id)"
   ]
  },
  {
   "cell_type": "code",
   "execution_count": 451,
   "metadata": {},
   "outputs": [
    {
     "name": "stdout",
     "output_type": "stream",
     "text": [
      "Accuracy KNN KRW entrenamiento: 0.7127227258518287\n",
      "Accuracy KNN KRW validacion: 0.7175\n"
     ]
    }
   ],
   "source": [
    "KRW_train_acc = KNN2.score(train_glove_raw, Wlabels_train_id)\n",
    "KRW_valid_acc = KNN2.score(val_glove_raw, Wlabels_val_id)\n",
    "print ('Accuracy KNN KRW entrenamiento:', KRW_train_acc)\n",
    "print ('Accuracy KNN KRW validacion:', KRW_valid_acc)"
   ]
  },
  {
   "cell_type": "code",
   "execution_count": 445,
   "metadata": {},
   "outputs": [
    {
     "data": {
      "text/plain": [
       "KNeighborsClassifier(algorithm='auto', leaf_size=30, metric='minkowski',\n",
       "                     metric_params=None, n_jobs=None, n_neighbors=196, p=2,\n",
       "                     weights='uniform')"
      ]
     },
     "execution_count": 445,
     "metadata": {},
     "output_type": "execute_result"
    }
   ],
   "source": [
    "# KNeighbors: stemData - Majority Voting [KSM]\n",
    "KNN3 = KNeighborsClassifier()\n",
    "KNN3.set_params(n_neighbors=196)\n",
    "KNN3.fit(train_glove_raw, Mlabels_train_id)"
   ]
  },
  {
   "cell_type": "code",
   "execution_count": 452,
   "metadata": {},
   "outputs": [
    {
     "name": "stdout",
     "output_type": "stream",
     "text": [
      "Accuracy KNN KSM entrenamiento: 0.5679899968740232\n",
      "Accuracy KNN KSM validacion: 0.5875\n"
     ]
    }
   ],
   "source": [
    "KSM_train_acc = KNN3.score(train_glove_stem, Mlabels_train_id)\n",
    "KSM_valid_acc = KNN3.score(val_glove_stem, Mlabels_val_id)\n",
    "print ('Accuracy KNN KSM entrenamiento:', KSM_train_acc)\n",
    "print ('Accuracy KNN KSM validacion:', KSM_valid_acc)"
   ]
  },
  {
   "cell_type": "code",
   "execution_count": 447,
   "metadata": {},
   "outputs": [
    {
     "data": {
      "text/plain": [
       "KNeighborsClassifier(algorithm='auto', leaf_size=30, metric='minkowski',\n",
       "                     metric_params=None, n_jobs=None, n_neighbors=196, p=2,\n",
       "                     weights='uniform')"
      ]
     },
     "execution_count": 447,
     "metadata": {},
     "output_type": "execute_result"
    }
   ],
   "source": [
    "# KNeighbors: stemData - Worker Quality [KSW]\n",
    "KNN4 = KNeighborsClassifier()\n",
    "KNN4.set_params(n_neighbors=196)\n",
    "KNN4.fit(train_glove_raw, Mlabels_train_id)"
   ]
  },
  {
   "cell_type": "code",
   "execution_count": 453,
   "metadata": {},
   "outputs": [
    {
     "name": "stdout",
     "output_type": "stream",
     "text": [
      "Accuracy KNN KSW entrenamiento: 0.5567364801500468\n",
      "Accuracy KNN KSW validacion: 0.5625\n"
     ]
    }
   ],
   "source": [
    "KSW_train_acc = KNN4.score(train_glove_stem, Wlabels_train_id)\n",
    "KSW_valid_acc = KNN4.score(val_glove_stem, Wlabels_val_id)\n",
    "print ('Accuracy KNN KSW entrenamiento:', KSW_train_acc)\n",
    "print ('Accuracy KNN KSW validacion:', KSW_valid_acc)"
   ]
  },
  {
   "cell_type": "markdown",
   "metadata": {},
   "source": [
    "### Conclusiones\n",
    "\n",
    "Luego de haber realizado estas pruebas podemos destacar cosas que resultarán naturales a simple vista, debido a las elecciones que hemos realizado como también otros un poco menos intuitivos.\n",
    "\n",
    "En primera instancia, mencionar que los resultados obtenidos por todos los modelos utilizados, con excepcion de los modelos **KRM** y **KRW**, obtienen resultados bastante similares, lo que nos señala que los modelos están funcionando en base a la cantidad de datos que estamos teniendo. Todos los resultados obtenidos son mayores a $50\\%$ lo que nos permite decir que es mejor que tirar una moneda.\n",
    "\n",
    "Aún cuando no estamos trabajando con las etiquetas reales, ambos métodos de inferencia resultan bastante alentadores comparandolos con los datos originales. De estos, si bien, se puede notar que *Worker Quality* es más cercano al *ground truth* y que el modelo elegido finalmente refleja esto comparativamente con *Majority Voting*, no es una premisa que se mantenga estable en todos lo entrenamientos. De todas formas, creemos que la utilización de una inferencia en base a la calidad de los observadores es crucial, debido a la posible existencia de anotadoras maliciosas.\n",
    "\n",
    "Con respecto a otra prueba que realizamos, *stemData vs rawData*, claramente **rawData** fue superior y esto va de la mano con la perdida de información que ocurre al utilizar el *embedding* pre-entrenado, debido a la inexistencia de muchas palabras luego de este pre-procesamiento en el diccionario de palabras."
   ]
  },
  {
   "cell_type": "code",
   "execution_count": 456,
   "metadata": {},
   "outputs": [
    {
     "name": "stdout",
     "output_type": "stream",
     "text": [
      "Accuracy Testing directo: 0.683\n"
     ]
    }
   ],
   "source": [
    "TEST_SCORE = KNN2.score(test_glove_raw,Glabels_test_id)\n",
    "print ('Accuracy Testing directo:', TEST_SCORE)"
   ]
  }
 ],
 "metadata": {
  "kernelspec": {
   "display_name": "Python 3",
   "language": "python",
   "name": "python3"
  },
  "language_info": {
   "codemirror_mode": {
    "name": "ipython",
    "version": 3
   },
   "file_extension": ".py",
   "mimetype": "text/x-python",
   "name": "python",
   "nbconvert_exporter": "python",
   "pygments_lexer": "ipython3",
   "version": "3.7.3"
  }
 },
 "nbformat": 4,
 "nbformat_minor": 2
}
